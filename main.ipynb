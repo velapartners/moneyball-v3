{
 "cells": [
  {
   "cell_type": "markdown",
   "source": [
    "# Success Rate Evaluation\n",
    "Evaluate success rate using weighted KNN (k-nearest neighbors)\n",
    "\n",
    "## Sections\n",
    "1. visualization of nearest neighbors\n",
    "2. analogy using vector arithmetic: if mit is not in massachusetts but in california, which school would it be?\n",
    "[mit] - [massachusetts] + [california] = ?\n",
    "3. evaluation of category success rate using KNN with successful & unsuccessful categories frequency as weights\n",
    "\n",
    "## Inputs\n",
    "1. Word2Vec model\n",
    "2. successful and unsuccessful company data\n",
    "\n",
    "## Outputs\n",
    "1. scatter plots\n",
    "2. analogy answer\n",
    "3. evaluation of entry success rate\n",
    "\n",
    "v1.0: Liren SONG, Oxford, Dec 17 2021"
   ],
   "metadata": {
    "collapsed": false,
    "pycharm": {
     "name": "#%% md\n"
    }
   }
  },
  {
   "cell_type": "code",
   "execution_count": 1,
   "metadata": {
    "collapsed": true
   },
   "outputs": [
    {
     "data": {
      "text/plain": "<matplotlib.pyplot._IonContext at 0x11ffd0d00>"
     },
     "execution_count": 1,
     "metadata": {},
     "output_type": "execute_result"
    }
   ],
   "source": [
    "from sklearn.decomposition import PCA\n",
    "from gensim import models\n",
    "from sklearn.manifold import TSNE\n",
    "import numpy as np\n",
    "import pandas as pd\n",
    "import re\n",
    "import string\n",
    "import collections\n",
    "import matplotlib.cm as cm\n",
    "# plot with webagg\n",
    "import matplotlib\n",
    "matplotlib.use('WebAgg')\n",
    "import matplotlib.pyplot as plt\n",
    "plt.ion()"
   ]
  },
  {
   "cell_type": "code",
   "execution_count": 2,
   "outputs": [
    {
     "data": {
      "text/plain": "[('honolulu', 0.8657945394515991),\n ('oahu', 0.7792679071426392),\n ('florida', 0.7689505815505981),\n ('maui', 0.7519458532333374),\n ('anchorage', 0.749379575252533),\n ('miami', 0.7459452748298645),\n ('detroit', 0.7450781464576721),\n ('maine', 0.7429133653640747),\n ('alaska', 0.7380715608596802),\n ('southwest', 0.7372687458992004)]"
     },
     "execution_count": 2,
     "metadata": {},
     "output_type": "execute_result"
    }
   ],
   "source": [
    "# load in model\n",
    "word2vec_path = 'liren_model_better.bin'\n",
    "model = models.KeyedVectors.load_word2vec_format(word2vec_path, binary=True)\n",
    "# perform simple test\n",
    "model.most_similar('hawaii')"
   ],
   "metadata": {
    "collapsed": false,
    "pycharm": {
     "name": "#%%\n"
    }
   }
  },
  {
   "cell_type": "markdown",
   "source": [
    "## Section 1: visualization of nearest neighbors\n",
    "please note that all the plots are suppressed into two dimension from high dimension, visual clue can be misleading"
   ],
   "metadata": {
    "collapsed": false,
    "pycharm": {
     "name": "#%% md\n"
    }
   }
  },
  {
   "cell_type": "code",
   "execution_count": 3,
   "outputs": [],
   "source": [
    "# all the plotting functions\n",
    "def tsne_plot_similar_words(title, labels, embedding_clusters, word_clusters, a, filename=None):\n",
    "    plt.close('all')\n",
    "    colors = cm.rainbow(np.linspace(0, 1, len(labels)))\n",
    "    for label, embeddings, words, color in zip(labels, embedding_clusters, word_clusters, colors):\n",
    "        x = embeddings[:, 0]\n",
    "        y = embeddings[:, 1]\n",
    "        plt.scatter(x, y, c=color, alpha=a, label=label, linewidths=5)\n",
    "        for i, word in enumerate(words):\n",
    "            plt.annotate(word, alpha=1, xy=(x[i], y[i]), xytext=(5, 2),\n",
    "                         textcoords='offset points', ha='right', va='bottom', size=15)\n",
    "    plt.legend(loc=4)\n",
    "    plt.title(title)\n",
    "    plt.grid(True)\n",
    "    if filename:\n",
    "        plt.savefig(filename, format='png', dpi=150, bbox_inches='tight')\n",
    "    plt.show()\n",
    "\n",
    "\n",
    "def similar_words_plot(keys):\n",
    "    embedding_clusters = []\n",
    "    word_clusters = []\n",
    "    for word in keys:\n",
    "        embeddings = []\n",
    "        words = []\n",
    "        if word in model:\n",
    "            for similar_word, _ in model.most_similar(word, topn=15):\n",
    "                words.append(similar_word)\n",
    "                embeddings.append(model[similar_word])\n",
    "            embedding_clusters.append(embeddings)\n",
    "            word_clusters.append(words)\n",
    "\n",
    "    embedding_clusters = np.array(embedding_clusters)\n",
    "    n, m, k = embedding_clusters.shape\n",
    "    tsne_model_en_2d = TSNE(perplexity=15, n_components=2, init='pca', n_iter=3500, random_state=32)\n",
    "    embeddings_en_2d = np.array(tsne_model_en_2d.fit_transform(embedding_clusters.reshape(n * m, k))).reshape(n, m, 2)\n",
    "\n",
    "    tsne_plot_similar_words('Similar words plot', keys, embeddings_en_2d, word_clusters, 0.7)\n",
    "\n",
    "def words_scatterplot(plot_model, input_words, label=True):\n",
    "    plt.close('all')\n",
    "    plt.figure(figsize=(6,6))\n",
    "    word_vectors = np.array([model[w] for w in input_words if w in plot_model])\n",
    "    twodim = PCA().fit_transform(word_vectors)[:,:2]\n",
    "    plt.scatter(twodim[:,0], twodim[:,1], edgecolors='k', c='r')\n",
    "    if label:\n",
    "        for word, (x,y) in zip(input_words, twodim):\n",
    "            plt.text(x+0.05, y+0.05, word)\n",
    "    plt.show()\n",
    "\n",
    "def successful_unsuccessful_plot(plot_model, words_successful, words_unsuccessful, label=False):\n",
    "    plt.close('all')\n",
    "    plt.figure(figsize=(6, 6))\n",
    "    for words in words_successful, words_unsuccessful:\n",
    "        word_vectors = np.array([plot_model[w] for w in words if w in plot_model])\n",
    "        twodim = PCA().fit_transform(word_vectors)[:, :2]\n",
    "        if words == words_successful:\n",
    "            plt.scatter(twodim[:, 0], twodim[:, 1], edgecolors='k', c='r')\n",
    "            if label:\n",
    "                for word, (x, y) in zip(words, twodim):\n",
    "                    plt.text(x + 0.05, y + 0.05, f'{word}_successful')\n",
    "        elif words == words_unsuccessful:\n",
    "            plt.scatter(twodim[:, 0], twodim[:, 1], edgecolors='k', c='g')\n",
    "            if label:\n",
    "                for word, (x, y) in zip(words, twodim):\n",
    "                    plt.text(x + 0.05, y + 0.05, f'{word}_unsuccessful')\n",
    "    plt.show()\n"
   ],
   "metadata": {
    "collapsed": false,
    "pycharm": {
     "name": "#%%\n"
    }
   }
  },
  {
   "cell_type": "code",
   "execution_count": 23,
   "outputs": [
    {
     "name": "stderr",
     "output_type": "stream",
     "text": [
      "/Users/lirensong/miniforge3/envs/strategy/lib/python3.9/site-packages/sklearn/manifold/_t_sne.py:790: FutureWarning: The default learning rate in TSNE will change from 200.0 to 'auto' in 1.2.\n",
      "  warnings.warn(\n",
      "/Users/lirensong/miniforge3/envs/strategy/lib/python3.9/site-packages/sklearn/manifold/_t_sne.py:982: FutureWarning: The PCA initialization in TSNE will change to have the standard deviation of PC1 equal to 1e-4 in 1.2. This will ensure better convergence.\n",
      "  warnings.warn(\n",
      "*c* argument looks like a single numeric RGB or RGBA sequence, which should be avoided as value-mapping will have precedence in case its length matches with *x* & *y*.  Please use the *color* keyword-argument or provide a 2D array with a single row if you intend to specify the same RGB or RGBA value for all points.\n",
      "*c* argument looks like a single numeric RGB or RGBA sequence, which should be avoided as value-mapping will have precedence in case its length matches with *x* & *y*.  Please use the *color* keyword-argument or provide a 2D array with a single row if you intend to specify the same RGB or RGBA value for all points.\n",
      "*c* argument looks like a single numeric RGB or RGBA sequence, which should be avoided as value-mapping will have precedence in case its length matches with *x* & *y*.  Please use the *color* keyword-argument or provide a 2D array with a single row if you intend to specify the same RGB or RGBA value for all points.\n",
      "*c* argument looks like a single numeric RGB or RGBA sequence, which should be avoided as value-mapping will have precedence in case its length matches with *x* & *y*.  Please use the *color* keyword-argument or provide a 2D array with a single row if you intend to specify the same RGB or RGBA value for all points.\n"
     ]
    }
   ],
   "source": [
    "similar_words_plot(['stanford', 'cow', 'tesla', 'uber'])"
   ],
   "metadata": {
    "collapsed": false,
    "pycharm": {
     "name": "#%%\n"
    }
   }
  },
  {
   "cell_type": "code",
   "execution_count": null,
   "outputs": [],
   "source": [
    "words_scatterplot(model,['stanford', 'hardware', 'mit', 'software'])"
   ],
   "metadata": {
    "collapsed": false,
    "pycharm": {
     "name": "#%%\n"
    }
   }
  },
  {
   "cell_type": "markdown",
   "source": [
    "## Section 2: analogy using vector arithmetic"
   ],
   "metadata": {
    "collapsed": false,
    "pycharm": {
     "name": "#%% md\n"
    }
   }
  },
  {
   "cell_type": "code",
   "execution_count": 4,
   "outputs": [],
   "source": [
    "def analogy(x1, x2, x3):\n",
    "    \"\"\"\n",
    "    with the rule:\n",
    "    [x1] + [x2] - [x3] = result\n",
    "    example:\n",
    "    [king] + [women] - [men] = [queen]\n",
    "    \"\"\"\n",
    "    result = model.most_similar(positive=[x1, x2], negative=[x3])\n",
    "    return result[0][0]"
   ],
   "metadata": {
    "collapsed": false,
    "pycharm": {
     "name": "#%%\n"
    }
   }
  },
  {
   "cell_type": "code",
   "execution_count": 11,
   "outputs": [
    {
     "data": {
      "text/plain": "'cmu'"
     },
     "execution_count": 11,
     "metadata": {},
     "output_type": "execute_result"
    }
   ],
   "source": [
    "analogy('mit', 'california', 'massachusetts')"
   ],
   "metadata": {
    "collapsed": false,
    "pycharm": {
     "name": "#%%\n"
    }
   }
  },
  {
   "cell_type": "markdown",
   "source": [
    "## Section 3: evaluation of category success rate using KNN"
   ],
   "metadata": {
    "collapsed": false
   }
  },
  {
   "cell_type": "code",
   "execution_count": 5,
   "outputs": [],
   "source": [
    "# load in successful and unsuccessful data\n",
    "df_successful = pd.read_csv('Moneyball_Successful_Companies.csv')\n",
    "df_unsuccessful = pd.read_csv('Moneyball_UnsuccessfulCompanies.csv')"
   ],
   "metadata": {
    "collapsed": false,
    "pycharm": {
     "name": "#%%\n"
    }
   }
  },
  {
   "cell_type": "code",
   "execution_count": 6,
   "outputs": [],
   "source": [
    "def clean_sentences(text):\n",
    "    \"\"\"Make text lowercase, remove punctuation and remove words containing numbers.\"\"\"\n",
    "    text = re.sub(r'[^\\w]', ' ', text)  # clear all things except underscore and alphanumeric\n",
    "    text = re.sub(\" \\d+\", \" \", text)  # clear all digits\n",
    "    text = text.lower()  # lower all text\n",
    "\n",
    "    # replace the word 'and'\n",
    "    # todo: this part can be further fine tuned\n",
    "    patterns = ['and']\n",
    "    for pattern in patterns:\n",
    "        text = re.sub(pattern, '', text)\n",
    "    return text\n",
    "\n",
    "def filter_list(df):\n",
    "    df = df[df['country_code'] == 'USA']\n",
    "    category_list = clean_sentences(str(list(df['category_list']))).split()\n",
    "    filtered_category_list = []\n",
    "    for word in category_list:\n",
    "        if len(word) > 1:\n",
    "            filtered_category_list += [word]\n",
    "    return filtered_category_list\n",
    "\n",
    "def generate_frequency_list(df_one, df_two):\n",
    "    idx = 1\n",
    "    for df in df_one, df_two:\n",
    "        filtered_category_list = filter_list(df)\n",
    "        counter = collections.Counter(filtered_category_list)\n",
    "        if idx == 1:\n",
    "            frequency_list_one = pd.DataFrame(counter.most_common())\n",
    "        else:\n",
    "            frequency_list_two = pd.DataFrame(counter.most_common())\n",
    "        idx += 1\n",
    "    return frequency_list_one, frequency_list_two\n"
   ],
   "metadata": {
    "collapsed": false,
    "pycharm": {
     "name": "#%%\n"
    }
   }
  },
  {
   "cell_type": "code",
   "execution_count": 7,
   "outputs": [],
   "source": [
    "# generate frequency(count) dataframe for both successful and unsuccessful categories\n",
    "df_successful_frequency, df_unsuccessful_frequency = generate_frequency_list(df_successful, df_unsuccessful)"
   ],
   "metadata": {
    "collapsed": false,
    "pycharm": {
     "name": "#%%\n"
    }
   }
  },
  {
   "cell_type": "code",
   "execution_count": 10,
   "outputs": [],
   "source": [
    "df_successful_frequency[\"frequency\"] = df_successful_frequency.iloc[:, 1]/sum(df_successful_frequency.iloc[:, 1])"
   ],
   "metadata": {
    "collapsed": false,
    "pycharm": {
     "name": "#%%\n"
    }
   }
  },
  {
   "cell_type": "code",
   "execution_count": 11,
   "outputs": [
    {
     "data": {
      "text/plain": "                0    1  frequency\n0        software  519   0.102185\n1      enterprise  205   0.040362\n2            saas  165   0.032487\n3           cloud  142   0.027958\n4            data  141   0.027761\n..            ...  ...        ...\n376       cycling    1   0.000197\n377        garden    1   0.000197\n378   improvement    1   0.000197\n379         fleet    1   0.000197\n380  architecture    1   0.000197\n\n[381 rows x 3 columns]",
      "text/html": "<div>\n<style scoped>\n    .dataframe tbody tr th:only-of-type {\n        vertical-align: middle;\n    }\n\n    .dataframe tbody tr th {\n        vertical-align: top;\n    }\n\n    .dataframe thead th {\n        text-align: right;\n    }\n</style>\n<table border=\"1\" class=\"dataframe\">\n  <thead>\n    <tr style=\"text-align: right;\">\n      <th></th>\n      <th>0</th>\n      <th>1</th>\n      <th>frequency</th>\n    </tr>\n  </thead>\n  <tbody>\n    <tr>\n      <th>0</th>\n      <td>software</td>\n      <td>519</td>\n      <td>0.102185</td>\n    </tr>\n    <tr>\n      <th>1</th>\n      <td>enterprise</td>\n      <td>205</td>\n      <td>0.040362</td>\n    </tr>\n    <tr>\n      <th>2</th>\n      <td>saas</td>\n      <td>165</td>\n      <td>0.032487</td>\n    </tr>\n    <tr>\n      <th>3</th>\n      <td>cloud</td>\n      <td>142</td>\n      <td>0.027958</td>\n    </tr>\n    <tr>\n      <th>4</th>\n      <td>data</td>\n      <td>141</td>\n      <td>0.027761</td>\n    </tr>\n    <tr>\n      <th>...</th>\n      <td>...</td>\n      <td>...</td>\n      <td>...</td>\n    </tr>\n    <tr>\n      <th>376</th>\n      <td>cycling</td>\n      <td>1</td>\n      <td>0.000197</td>\n    </tr>\n    <tr>\n      <th>377</th>\n      <td>garden</td>\n      <td>1</td>\n      <td>0.000197</td>\n    </tr>\n    <tr>\n      <th>378</th>\n      <td>improvement</td>\n      <td>1</td>\n      <td>0.000197</td>\n    </tr>\n    <tr>\n      <th>379</th>\n      <td>fleet</td>\n      <td>1</td>\n      <td>0.000197</td>\n    </tr>\n    <tr>\n      <th>380</th>\n      <td>architecture</td>\n      <td>1</td>\n      <td>0.000197</td>\n    </tr>\n  </tbody>\n</table>\n<p>381 rows × 3 columns</p>\n</div>"
     },
     "execution_count": 11,
     "metadata": {},
     "output_type": "execute_result"
    }
   ],
   "source": [
    "df_successful_frequency"
   ],
   "metadata": {
    "collapsed": false,
    "pycharm": {
     "name": "#%%\n"
    }
   }
  },
  {
   "cell_type": "code",
   "execution_count": 12,
   "outputs": [],
   "source": [
    "df_unsuccessful_frequency[\"frequency\"] = df_unsuccessful_frequency.iloc[:, 1]/sum(df_unsuccessful_frequency.iloc[:, 1])"
   ],
   "metadata": {
    "collapsed": false,
    "pycharm": {
     "name": "#%%\n"
    }
   }
  },
  {
   "cell_type": "code",
   "execution_count": 13,
   "outputs": [
    {
     "data": {
      "text/plain": "               0     1  frequency\n0       software  1152   0.108322\n1         mobile   430   0.040433\n2     enterprise   317   0.029807\n3           apps   284   0.026704\n4     technology   284   0.026704\n..           ...   ...        ...\n518          pet     1   0.000094\n519   veterinary     1   0.000094\n520  residential     1   0.000094\n521        drone     1   0.000094\n522         ride     1   0.000094\n\n[523 rows x 3 columns]",
      "text/html": "<div>\n<style scoped>\n    .dataframe tbody tr th:only-of-type {\n        vertical-align: middle;\n    }\n\n    .dataframe tbody tr th {\n        vertical-align: top;\n    }\n\n    .dataframe thead th {\n        text-align: right;\n    }\n</style>\n<table border=\"1\" class=\"dataframe\">\n  <thead>\n    <tr style=\"text-align: right;\">\n      <th></th>\n      <th>0</th>\n      <th>1</th>\n      <th>frequency</th>\n    </tr>\n  </thead>\n  <tbody>\n    <tr>\n      <th>0</th>\n      <td>software</td>\n      <td>1152</td>\n      <td>0.108322</td>\n    </tr>\n    <tr>\n      <th>1</th>\n      <td>mobile</td>\n      <td>430</td>\n      <td>0.040433</td>\n    </tr>\n    <tr>\n      <th>2</th>\n      <td>enterprise</td>\n      <td>317</td>\n      <td>0.029807</td>\n    </tr>\n    <tr>\n      <th>3</th>\n      <td>apps</td>\n      <td>284</td>\n      <td>0.026704</td>\n    </tr>\n    <tr>\n      <th>4</th>\n      <td>technology</td>\n      <td>284</td>\n      <td>0.026704</td>\n    </tr>\n    <tr>\n      <th>...</th>\n      <td>...</td>\n      <td>...</td>\n      <td>...</td>\n    </tr>\n    <tr>\n      <th>518</th>\n      <td>pet</td>\n      <td>1</td>\n      <td>0.000094</td>\n    </tr>\n    <tr>\n      <th>519</th>\n      <td>veterinary</td>\n      <td>1</td>\n      <td>0.000094</td>\n    </tr>\n    <tr>\n      <th>520</th>\n      <td>residential</td>\n      <td>1</td>\n      <td>0.000094</td>\n    </tr>\n    <tr>\n      <th>521</th>\n      <td>drone</td>\n      <td>1</td>\n      <td>0.000094</td>\n    </tr>\n    <tr>\n      <th>522</th>\n      <td>ride</td>\n      <td>1</td>\n      <td>0.000094</td>\n    </tr>\n  </tbody>\n</table>\n<p>523 rows × 3 columns</p>\n</div>"
     },
     "execution_count": 13,
     "metadata": {},
     "output_type": "execute_result"
    }
   ],
   "source": [
    "df_unsuccessful_frequency"
   ],
   "metadata": {
    "collapsed": false,
    "pycharm": {
     "name": "#%%\n"
    }
   }
  },
  {
   "cell_type": "code",
   "execution_count": 10,
   "outputs": [
    {
     "name": "stdout",
     "output_type": "stream",
     "text": [
      "Press Ctrl+C to stop WebAgg server\n"
     ]
    },
    {
     "ename": "RuntimeError",
     "evalue": "This event loop is already running",
     "output_type": "error",
     "traceback": [
      "\u001B[0;31m---------------------------------------------------------------------------\u001B[0m",
      "\u001B[0;31mRuntimeError\u001B[0m                              Traceback (most recent call last)",
      "\u001B[0;32m/var/folders/mh/x6th6r6533dc565202vcv5b40000gn/T/ipykernel_20481/1884569265.py\u001B[0m in \u001B[0;36m<module>\u001B[0;34m\u001B[0m\n\u001B[0;32m----> 1\u001B[0;31m \u001B[0msuccessful_unsuccessful_plot\u001B[0m\u001B[0;34m(\u001B[0m\u001B[0mmodel\u001B[0m\u001B[0;34m,\u001B[0m \u001B[0mlist\u001B[0m\u001B[0;34m(\u001B[0m\u001B[0mdf_successful_frequency\u001B[0m\u001B[0;34m[\u001B[0m\u001B[0;36m0\u001B[0m\u001B[0;34m]\u001B[0m\u001B[0;34m)\u001B[0m\u001B[0;34m,\u001B[0m \u001B[0mlist\u001B[0m\u001B[0;34m(\u001B[0m\u001B[0mdf_unsuccessful_frequency\u001B[0m\u001B[0;34m[\u001B[0m\u001B[0;36m0\u001B[0m\u001B[0;34m]\u001B[0m\u001B[0;34m)\u001B[0m\u001B[0;34m)\u001B[0m\u001B[0;34m\u001B[0m\u001B[0;34m\u001B[0m\u001B[0m\n\u001B[0m",
      "\u001B[0;32m/var/folders/mh/x6th6r6533dc565202vcv5b40000gn/T/ipykernel_20481/174587082.py\u001B[0m in \u001B[0;36msuccessful_unsuccessful_plot\u001B[0;34m(plot_model, words_successful, words_unsuccessful, label)\u001B[0m\n\u001B[1;32m     65\u001B[0m                 \u001B[0;32mfor\u001B[0m \u001B[0mword\u001B[0m\u001B[0;34m,\u001B[0m \u001B[0;34m(\u001B[0m\u001B[0mx\u001B[0m\u001B[0;34m,\u001B[0m \u001B[0my\u001B[0m\u001B[0;34m)\u001B[0m \u001B[0;32min\u001B[0m \u001B[0mzip\u001B[0m\u001B[0;34m(\u001B[0m\u001B[0mwords\u001B[0m\u001B[0;34m,\u001B[0m \u001B[0mtwodim\u001B[0m\u001B[0;34m)\u001B[0m\u001B[0;34m:\u001B[0m\u001B[0;34m\u001B[0m\u001B[0;34m\u001B[0m\u001B[0m\n\u001B[1;32m     66\u001B[0m                     \u001B[0mplt\u001B[0m\u001B[0;34m.\u001B[0m\u001B[0mtext\u001B[0m\u001B[0;34m(\u001B[0m\u001B[0mx\u001B[0m \u001B[0;34m+\u001B[0m \u001B[0;36m0.05\u001B[0m\u001B[0;34m,\u001B[0m \u001B[0my\u001B[0m \u001B[0;34m+\u001B[0m \u001B[0;36m0.05\u001B[0m\u001B[0;34m,\u001B[0m \u001B[0;34mf'{word}_unsuccessful'\u001B[0m\u001B[0;34m)\u001B[0m\u001B[0;34m\u001B[0m\u001B[0;34m\u001B[0m\u001B[0m\n\u001B[0;32m---> 67\u001B[0;31m     \u001B[0mplt\u001B[0m\u001B[0;34m.\u001B[0m\u001B[0mshow\u001B[0m\u001B[0;34m(\u001B[0m\u001B[0;34m)\u001B[0m\u001B[0;34m\u001B[0m\u001B[0;34m\u001B[0m\u001B[0m\n\u001B[0m\u001B[1;32m     68\u001B[0m \u001B[0;34m\u001B[0m\u001B[0m\n",
      "\u001B[0;32m~/miniforge3/envs/strategy/lib/python3.9/site-packages/matplotlib/pyplot.py\u001B[0m in \u001B[0;36mshow\u001B[0;34m(*args, **kwargs)\u001B[0m\n\u001B[1;32m    366\u001B[0m     \"\"\"\n\u001B[1;32m    367\u001B[0m     \u001B[0m_warn_if_gui_out_of_main_thread\u001B[0m\u001B[0;34m(\u001B[0m\u001B[0;34m)\u001B[0m\u001B[0;34m\u001B[0m\u001B[0;34m\u001B[0m\u001B[0m\n\u001B[0;32m--> 368\u001B[0;31m     \u001B[0;32mreturn\u001B[0m \u001B[0m_backend_mod\u001B[0m\u001B[0;34m.\u001B[0m\u001B[0mshow\u001B[0m\u001B[0;34m(\u001B[0m\u001B[0;34m*\u001B[0m\u001B[0margs\u001B[0m\u001B[0;34m,\u001B[0m \u001B[0;34m**\u001B[0m\u001B[0mkwargs\u001B[0m\u001B[0;34m)\u001B[0m\u001B[0;34m\u001B[0m\u001B[0;34m\u001B[0m\u001B[0m\n\u001B[0m\u001B[1;32m    369\u001B[0m \u001B[0;34m\u001B[0m\u001B[0m\n\u001B[1;32m    370\u001B[0m \u001B[0;34m\u001B[0m\u001B[0m\n",
      "\u001B[0;32m~/miniforge3/envs/strategy/lib/python3.9/site-packages/matplotlib/backends/backend_webagg.py\u001B[0m in \u001B[0;36mshow\u001B[0;34m()\u001B[0m\n\u001B[1;32m    318\u001B[0m             \u001B[0mprint\u001B[0m\u001B[0;34m(\u001B[0m\u001B[0;34m\"To view figure, visit {0}\"\u001B[0m\u001B[0;34m.\u001B[0m\u001B[0mformat\u001B[0m\u001B[0;34m(\u001B[0m\u001B[0murl\u001B[0m\u001B[0;34m)\u001B[0m\u001B[0;34m)\u001B[0m\u001B[0;34m\u001B[0m\u001B[0;34m\u001B[0m\u001B[0m\n\u001B[1;32m    319\u001B[0m \u001B[0;34m\u001B[0m\u001B[0m\n\u001B[0;32m--> 320\u001B[0;31m         \u001B[0mWebAggApplication\u001B[0m\u001B[0;34m.\u001B[0m\u001B[0mstart\u001B[0m\u001B[0;34m(\u001B[0m\u001B[0;34m)\u001B[0m\u001B[0;34m\u001B[0m\u001B[0;34m\u001B[0m\u001B[0m\n\u001B[0m",
      "\u001B[0;32m~/miniforge3/envs/strategy/lib/python3.9/site-packages/matplotlib/backends/backend_webagg.py\u001B[0m in \u001B[0;36mstart\u001B[0;34m(cls)\u001B[0m\n\u001B[1;32m    275\u001B[0m         \u001B[0msys\u001B[0m\u001B[0;34m.\u001B[0m\u001B[0mstdout\u001B[0m\u001B[0;34m.\u001B[0m\u001B[0mflush\u001B[0m\u001B[0;34m(\u001B[0m\u001B[0;34m)\u001B[0m\u001B[0;34m\u001B[0m\u001B[0;34m\u001B[0m\u001B[0m\n\u001B[1;32m    276\u001B[0m         \u001B[0;32mwith\u001B[0m \u001B[0mcatch_sigint\u001B[0m\u001B[0;34m(\u001B[0m\u001B[0;34m)\u001B[0m\u001B[0;34m:\u001B[0m\u001B[0;34m\u001B[0m\u001B[0;34m\u001B[0m\u001B[0m\n\u001B[0;32m--> 277\u001B[0;31m             \u001B[0mioloop\u001B[0m\u001B[0;34m.\u001B[0m\u001B[0mstart\u001B[0m\u001B[0;34m(\u001B[0m\u001B[0;34m)\u001B[0m\u001B[0;34m\u001B[0m\u001B[0;34m\u001B[0m\u001B[0m\n\u001B[0m\u001B[1;32m    278\u001B[0m \u001B[0;34m\u001B[0m\u001B[0m\n\u001B[1;32m    279\u001B[0m \u001B[0;34m\u001B[0m\u001B[0m\n",
      "\u001B[0;32m~/miniforge3/envs/strategy/lib/python3.9/site-packages/tornado/platform/asyncio.py\u001B[0m in \u001B[0;36mstart\u001B[0;34m(self)\u001B[0m\n\u001B[1;32m    197\u001B[0m             \u001B[0mself\u001B[0m\u001B[0;34m.\u001B[0m\u001B[0m_setup_logging\u001B[0m\u001B[0;34m(\u001B[0m\u001B[0;34m)\u001B[0m\u001B[0;34m\u001B[0m\u001B[0;34m\u001B[0m\u001B[0m\n\u001B[1;32m    198\u001B[0m             \u001B[0masyncio\u001B[0m\u001B[0;34m.\u001B[0m\u001B[0mset_event_loop\u001B[0m\u001B[0;34m(\u001B[0m\u001B[0mself\u001B[0m\u001B[0;34m.\u001B[0m\u001B[0masyncio_loop\u001B[0m\u001B[0;34m)\u001B[0m\u001B[0;34m\u001B[0m\u001B[0;34m\u001B[0m\u001B[0m\n\u001B[0;32m--> 199\u001B[0;31m             \u001B[0mself\u001B[0m\u001B[0;34m.\u001B[0m\u001B[0masyncio_loop\u001B[0m\u001B[0;34m.\u001B[0m\u001B[0mrun_forever\u001B[0m\u001B[0;34m(\u001B[0m\u001B[0;34m)\u001B[0m\u001B[0;34m\u001B[0m\u001B[0;34m\u001B[0m\u001B[0m\n\u001B[0m\u001B[1;32m    200\u001B[0m         \u001B[0;32mfinally\u001B[0m\u001B[0;34m:\u001B[0m\u001B[0;34m\u001B[0m\u001B[0;34m\u001B[0m\u001B[0m\n\u001B[1;32m    201\u001B[0m             \u001B[0masyncio\u001B[0m\u001B[0;34m.\u001B[0m\u001B[0mset_event_loop\u001B[0m\u001B[0;34m(\u001B[0m\u001B[0mold_loop\u001B[0m\u001B[0;34m)\u001B[0m\u001B[0;34m\u001B[0m\u001B[0;34m\u001B[0m\u001B[0m\n",
      "\u001B[0;32m~/miniforge3/envs/strategy/lib/python3.9/asyncio/base_events.py\u001B[0m in \u001B[0;36mrun_forever\u001B[0;34m(self)\u001B[0m\n\u001B[1;32m    584\u001B[0m         \u001B[0;34m\"\"\"Run until stop() is called.\"\"\"\u001B[0m\u001B[0;34m\u001B[0m\u001B[0;34m\u001B[0m\u001B[0m\n\u001B[1;32m    585\u001B[0m         \u001B[0mself\u001B[0m\u001B[0;34m.\u001B[0m\u001B[0m_check_closed\u001B[0m\u001B[0;34m(\u001B[0m\u001B[0;34m)\u001B[0m\u001B[0;34m\u001B[0m\u001B[0;34m\u001B[0m\u001B[0m\n\u001B[0;32m--> 586\u001B[0;31m         \u001B[0mself\u001B[0m\u001B[0;34m.\u001B[0m\u001B[0m_check_running\u001B[0m\u001B[0;34m(\u001B[0m\u001B[0;34m)\u001B[0m\u001B[0;34m\u001B[0m\u001B[0;34m\u001B[0m\u001B[0m\n\u001B[0m\u001B[1;32m    587\u001B[0m         \u001B[0mself\u001B[0m\u001B[0;34m.\u001B[0m\u001B[0m_set_coroutine_origin_tracking\u001B[0m\u001B[0;34m(\u001B[0m\u001B[0mself\u001B[0m\u001B[0;34m.\u001B[0m\u001B[0m_debug\u001B[0m\u001B[0;34m)\u001B[0m\u001B[0;34m\u001B[0m\u001B[0;34m\u001B[0m\u001B[0m\n\u001B[1;32m    588\u001B[0m         \u001B[0mself\u001B[0m\u001B[0;34m.\u001B[0m\u001B[0m_thread_id\u001B[0m \u001B[0;34m=\u001B[0m \u001B[0mthreading\u001B[0m\u001B[0;34m.\u001B[0m\u001B[0mget_ident\u001B[0m\u001B[0;34m(\u001B[0m\u001B[0;34m)\u001B[0m\u001B[0;34m\u001B[0m\u001B[0;34m\u001B[0m\u001B[0m\n",
      "\u001B[0;32m~/miniforge3/envs/strategy/lib/python3.9/asyncio/base_events.py\u001B[0m in \u001B[0;36m_check_running\u001B[0;34m(self)\u001B[0m\n\u001B[1;32m    576\u001B[0m     \u001B[0;32mdef\u001B[0m \u001B[0m_check_running\u001B[0m\u001B[0;34m(\u001B[0m\u001B[0mself\u001B[0m\u001B[0;34m)\u001B[0m\u001B[0;34m:\u001B[0m\u001B[0;34m\u001B[0m\u001B[0;34m\u001B[0m\u001B[0m\n\u001B[1;32m    577\u001B[0m         \u001B[0;32mif\u001B[0m \u001B[0mself\u001B[0m\u001B[0;34m.\u001B[0m\u001B[0mis_running\u001B[0m\u001B[0;34m(\u001B[0m\u001B[0;34m)\u001B[0m\u001B[0;34m:\u001B[0m\u001B[0;34m\u001B[0m\u001B[0;34m\u001B[0m\u001B[0m\n\u001B[0;32m--> 578\u001B[0;31m             \u001B[0;32mraise\u001B[0m \u001B[0mRuntimeError\u001B[0m\u001B[0;34m(\u001B[0m\u001B[0;34m'This event loop is already running'\u001B[0m\u001B[0;34m)\u001B[0m\u001B[0;34m\u001B[0m\u001B[0;34m\u001B[0m\u001B[0m\n\u001B[0m\u001B[1;32m    579\u001B[0m         \u001B[0;32mif\u001B[0m \u001B[0mevents\u001B[0m\u001B[0;34m.\u001B[0m\u001B[0m_get_running_loop\u001B[0m\u001B[0;34m(\u001B[0m\u001B[0;34m)\u001B[0m \u001B[0;32mis\u001B[0m \u001B[0;32mnot\u001B[0m \u001B[0;32mNone\u001B[0m\u001B[0;34m:\u001B[0m\u001B[0;34m\u001B[0m\u001B[0;34m\u001B[0m\u001B[0m\n\u001B[1;32m    580\u001B[0m             raise RuntimeError(\n",
      "\u001B[0;31mRuntimeError\u001B[0m: This event loop is already running"
     ]
    }
   ],
   "source": [
    "successful_unsuccessful_plot(model, list(df_successful_frequency[0]), list(df_unsuccessful_frequency[0]))"
   ],
   "metadata": {
    "collapsed": false,
    "pycharm": {
     "name": "#%%\n"
    }
   }
  },
  {
   "cell_type": "code",
   "execution_count": 11,
   "outputs": [
    {
     "data": {
      "text/plain": "                keys  successful_weights  unsuccessful_weights\n0                and                   0                     0\n1                the                   0                     0\n2                 to                   0                     0\n3                 of                   0                     0\n4                  a                   0                     0\n...              ...                 ...                   ...\n61975        subvert                   0                     0\n61976      homeshare                   0                     0\n61977   sharpshooter                   0                     0\n61978  overabundance                   0                     0\n61979     unbearable                   0                     0\n\n[61980 rows x 3 columns]",
      "text/html": "<div>\n<style scoped>\n    .dataframe tbody tr th:only-of-type {\n        vertical-align: middle;\n    }\n\n    .dataframe tbody tr th {\n        vertical-align: top;\n    }\n\n    .dataframe thead th {\n        text-align: right;\n    }\n</style>\n<table border=\"1\" class=\"dataframe\">\n  <thead>\n    <tr style=\"text-align: right;\">\n      <th></th>\n      <th>keys</th>\n      <th>successful_weights</th>\n      <th>unsuccessful_weights</th>\n    </tr>\n  </thead>\n  <tbody>\n    <tr>\n      <th>0</th>\n      <td>and</td>\n      <td>0</td>\n      <td>0</td>\n    </tr>\n    <tr>\n      <th>1</th>\n      <td>the</td>\n      <td>0</td>\n      <td>0</td>\n    </tr>\n    <tr>\n      <th>2</th>\n      <td>to</td>\n      <td>0</td>\n      <td>0</td>\n    </tr>\n    <tr>\n      <th>3</th>\n      <td>of</td>\n      <td>0</td>\n      <td>0</td>\n    </tr>\n    <tr>\n      <th>4</th>\n      <td>a</td>\n      <td>0</td>\n      <td>0</td>\n    </tr>\n    <tr>\n      <th>...</th>\n      <td>...</td>\n      <td>...</td>\n      <td>...</td>\n    </tr>\n    <tr>\n      <th>61975</th>\n      <td>subvert</td>\n      <td>0</td>\n      <td>0</td>\n    </tr>\n    <tr>\n      <th>61976</th>\n      <td>homeshare</td>\n      <td>0</td>\n      <td>0</td>\n    </tr>\n    <tr>\n      <th>61977</th>\n      <td>sharpshooter</td>\n      <td>0</td>\n      <td>0</td>\n    </tr>\n    <tr>\n      <th>61978</th>\n      <td>overabundance</td>\n      <td>0</td>\n      <td>0</td>\n    </tr>\n    <tr>\n      <th>61979</th>\n      <td>unbearable</td>\n      <td>0</td>\n      <td>0</td>\n    </tr>\n  </tbody>\n</table>\n<p>61980 rows × 3 columns</p>\n</div>"
     },
     "execution_count": 11,
     "metadata": {},
     "output_type": "execute_result"
    }
   ],
   "source": [
    "# initialize weight dataframe with keys\n",
    "keys = list(model.index_to_key)\n",
    "df_keys = pd.DataFrame({\"keys\": keys, 'successful_weights': 0, 'unsuccessful_weights': 0})\n",
    "df_keys"
   ],
   "metadata": {
    "collapsed": false,
    "pycharm": {
     "name": "#%%\n"
    }
   }
  },
  {
   "cell_type": "code",
   "execution_count": 12,
   "outputs": [],
   "source": [
    "# find frequency weights\n",
    "def find_weights(keys_dataframe, df_frequency):\n",
    "    key_index = []\n",
    "    weight_list = []\n",
    "    for i in range(0, len(df_frequency[0])):\n",
    "        index = keys_dataframe.index[keys_dataframe['keys'] == df_frequency.iloc[i, 0]].tolist()\n",
    "        key_index += index\n",
    "        # sometimes, depends on the training set, the category might not be in the keys set\n",
    "        # check if the list is empty\n",
    "        if len(index) == 1:\n",
    "            weight = [df_frequency.iloc[i, 1]]\n",
    "            weight_list += weight\n",
    "        elif len(index) == 0:\n",
    "            print(f'{df_frequency.iloc[i, 0]} not in key set')\n",
    "        else:\n",
    "            print(f'{df_frequency.iloc[i, 0]} is repeated in key set')\n",
    "    return key_index, weight_list\n",
    "\n",
    "# found how many keys are in the key set\n",
    "def key_in_set_ratio(key_index, df_frequency):\n",
    "    ratio = len(key_index)/len(df_frequency[0])\n",
    "    print(ratio)\n"
   ],
   "metadata": {
    "collapsed": false,
    "pycharm": {
     "name": "#%%\n"
    }
   }
  },
  {
   "cell_type": "code",
   "execution_count": 13,
   "outputs": [
    {
     "name": "stdout",
     "output_type": "stream",
     "text": [
      "computing not in key set\n",
      "computer not in key set\n",
      "commerce not in key set\n",
      "roid not in key set\n",
      "telecommunications not in key set\n",
      "communications not in key set\n",
      "commercial not in key set\n",
      "compliance not in key set\n",
      "communication not in key set\n",
      "comparison not in key set\n",
      "commerce not in key set\n",
      "computing not in key set\n",
      "computer not in key set\n",
      "roid not in key set\n",
      "telecommunications not in key set\n",
      "communities not in key set\n",
      "communications not in key set\n",
      "compliance not in key set\n",
      "commercial not in key set\n",
      "comparison not in key set\n",
      "communication not in key set\n",
      "homel not in key set\n",
      "accommodations not in key set\n",
      "hmade not in key set\n",
      "lscaping not in key set\n"
     ]
    }
   ],
   "source": [
    "successful_key_index, successful_weight_list = find_weights(df_keys, df_successful_frequency)\n",
    "unsuccessful_key_index, unsuccessful_weight_list = find_weights(df_keys, df_unsuccessful_frequency)"
   ],
   "metadata": {
    "collapsed": false,
    "pycharm": {
     "name": "#%%\n"
    }
   }
  },
  {
   "cell_type": "code",
   "execution_count": 14,
   "outputs": [
    {
     "name": "stdout",
     "output_type": "stream",
     "text": [
      "0.973753280839895\n",
      "0.97131931166348\n"
     ]
    },
    {
     "data": {
      "text/plain": "[None, None]"
     },
     "execution_count": 14,
     "metadata": {},
     "output_type": "execute_result"
    }
   ],
   "source": [
    "# check key in set ratio\n",
    "[key_in_set_ratio(successful_key_index, df_successful_frequency), key_in_set_ratio(unsuccessful_key_index, df_unsuccessful_frequency)]"
   ],
   "metadata": {
    "collapsed": false,
    "pycharm": {
     "name": "#%%\n"
    }
   }
  },
  {
   "cell_type": "code",
   "execution_count": 15,
   "outputs": [
    {
     "data": {
      "text/plain": "                keys  successful_weights  unsuccessful_weights  \\\n0                and                   0                     0   \n1                the                   0                     0   \n2                 to                   3                     0   \n3                 of                  20                    54   \n4                  a                   0                     0   \n...              ...                 ...                   ...   \n61975        subvert                   0                     0   \n61976      homeshare                   0                     0   \n61977   sharpshooter                   0                     0   \n61978  overabundance                   0                     0   \n61979     unbearable                   0                     0   \n\n       success_frequency  unsuccess_frequency  \n0               0.000000             0.000000  \n1               0.000000             0.000000  \n2               0.000610             0.000000  \n3               0.004069             0.005274  \n4               0.000000             0.000000  \n...                  ...                  ...  \n61975           0.000000             0.000000  \n61976           0.000000             0.000000  \n61977           0.000000             0.000000  \n61978           0.000000             0.000000  \n61979           0.000000             0.000000  \n\n[61980 rows x 5 columns]",
      "text/html": "<div>\n<style scoped>\n    .dataframe tbody tr th:only-of-type {\n        vertical-align: middle;\n    }\n\n    .dataframe tbody tr th {\n        vertical-align: top;\n    }\n\n    .dataframe thead th {\n        text-align: right;\n    }\n</style>\n<table border=\"1\" class=\"dataframe\">\n  <thead>\n    <tr style=\"text-align: right;\">\n      <th></th>\n      <th>keys</th>\n      <th>successful_weights</th>\n      <th>unsuccessful_weights</th>\n      <th>success_frequency</th>\n      <th>unsuccess_frequency</th>\n    </tr>\n  </thead>\n  <tbody>\n    <tr>\n      <th>0</th>\n      <td>and</td>\n      <td>0</td>\n      <td>0</td>\n      <td>0.000000</td>\n      <td>0.000000</td>\n    </tr>\n    <tr>\n      <th>1</th>\n      <td>the</td>\n      <td>0</td>\n      <td>0</td>\n      <td>0.000000</td>\n      <td>0.000000</td>\n    </tr>\n    <tr>\n      <th>2</th>\n      <td>to</td>\n      <td>3</td>\n      <td>0</td>\n      <td>0.000610</td>\n      <td>0.000000</td>\n    </tr>\n    <tr>\n      <th>3</th>\n      <td>of</td>\n      <td>20</td>\n      <td>54</td>\n      <td>0.004069</td>\n      <td>0.005274</td>\n    </tr>\n    <tr>\n      <th>4</th>\n      <td>a</td>\n      <td>0</td>\n      <td>0</td>\n      <td>0.000000</td>\n      <td>0.000000</td>\n    </tr>\n    <tr>\n      <th>...</th>\n      <td>...</td>\n      <td>...</td>\n      <td>...</td>\n      <td>...</td>\n      <td>...</td>\n    </tr>\n    <tr>\n      <th>61975</th>\n      <td>subvert</td>\n      <td>0</td>\n      <td>0</td>\n      <td>0.000000</td>\n      <td>0.000000</td>\n    </tr>\n    <tr>\n      <th>61976</th>\n      <td>homeshare</td>\n      <td>0</td>\n      <td>0</td>\n      <td>0.000000</td>\n      <td>0.000000</td>\n    </tr>\n    <tr>\n      <th>61977</th>\n      <td>sharpshooter</td>\n      <td>0</td>\n      <td>0</td>\n      <td>0.000000</td>\n      <td>0.000000</td>\n    </tr>\n    <tr>\n      <th>61978</th>\n      <td>overabundance</td>\n      <td>0</td>\n      <td>0</td>\n      <td>0.000000</td>\n      <td>0.000000</td>\n    </tr>\n    <tr>\n      <th>61979</th>\n      <td>unbearable</td>\n      <td>0</td>\n      <td>0</td>\n      <td>0.000000</td>\n      <td>0.000000</td>\n    </tr>\n  </tbody>\n</table>\n<p>61980 rows × 5 columns</p>\n</div>"
     },
     "execution_count": 15,
     "metadata": {},
     "output_type": "execute_result"
    }
   ],
   "source": [
    "# assign weights to keys dataframe\n",
    "df_keys.iloc[successful_key_index, 1] = successful_weight_list\n",
    "df_keys.iloc[unsuccessful_key_index, 2] = unsuccessful_weight_list\n",
    "df_keys[\"success_frequency\"] = df_keys.successful_weights/sum(df_keys.successful_weights)\n",
    "df_keys[\"unsuccess_frequency\"] = df_keys.unsuccessful_weights/sum(df_keys.unsuccessful_weights)\n",
    "df_keys"
   ],
   "metadata": {
    "collapsed": false,
    "pycharm": {
     "name": "#%%\n"
    }
   }
  },
  {
   "cell_type": "code",
   "execution_count": 16,
   "outputs": [
    {
     "data": {
      "text/plain": "10238"
     },
     "execution_count": 16,
     "metadata": {},
     "output_type": "execute_result"
    }
   ],
   "source": [
    "success_sum = df_keys.successful_weights.sum()\n",
    "success_sum\n",
    "unsuccess_sum = df_keys.unsuccessful_weights.sum()\n",
    "unsuccess_sum"
   ],
   "metadata": {
    "collapsed": false,
    "pycharm": {
     "name": "#%%\n"
    }
   }
  },
  {
   "cell_type": "code",
   "execution_count": 17,
   "outputs": [],
   "source": [
    "def catagory_evaluation(word):\n",
    "    \"\"\"\n",
    "    using knn, in this case k=(the number of successful & unsuccessful weights)\n",
    "    the more positive the result, the more likely the success is\n",
    "    you can enter any words, but the closer the word to the data you train, the most accurate the result\n",
    "    \"\"\"\n",
    "    try:\n",
    "        value_list = model.most_similar(word, topn=None)\n",
    "        # print(value_list)\n",
    "        # score is given by the relative closeness to successful minus closeness to unsuccessful\n",
    "        score = sum(value_list*(df_keys.success_frequency-df_keys.unsuccess_frequency))\n",
    "    except:\n",
    "        # if the entry is not in the key set, return 0\n",
    "        score = 0\n",
    "        print(f'{word} not in key set')\n",
    "    return score"
   ],
   "metadata": {
    "collapsed": false,
    "pycharm": {
     "name": "#%%\n"
    }
   }
  },
  {
   "cell_type": "code",
   "execution_count": 18,
   "outputs": [],
   "source": [
    "df_evalution = pd.DataFrame({\n",
    "    \"keys\": df_keys[\"keys\"]\n",
    "})"
   ],
   "metadata": {
    "collapsed": false,
    "pycharm": {
     "name": "#%%\n"
    }
   }
  },
  {
   "cell_type": "code",
   "execution_count": 19,
   "outputs": [],
   "source": [
    "# evaluation = []\n",
    "# for key in df_evalution[\"keys\"]:\n",
    "#     evaluation += [catagory_evaluation(key)]"
   ],
   "metadata": {
    "collapsed": false,
    "pycharm": {
     "name": "#%%\n"
    }
   }
  },
  {
   "cell_type": "code",
   "execution_count": 20,
   "outputs": [],
   "source": [
    "# df_evalution[\"evaluation\"] = evaluation"
   ],
   "metadata": {
    "collapsed": false,
    "pycharm": {
     "name": "#%%\n"
    }
   }
  },
  {
   "cell_type": "code",
   "execution_count": 21,
   "outputs": [
    {
     "data": {
      "text/plain": "                keys  evaluation\n0                and   -0.001323\n1                the   -0.002725\n2                 to    0.002387\n3                 of   -0.001911\n4                  a   -0.007624\n...              ...         ...\n61975        subvert   -0.005514\n61976      homeshare   -0.002248\n61977   sharpshooter    0.018649\n61978  overabundance    0.023037\n61979     unbearable   -0.001106\n\n[61980 rows x 2 columns]",
      "text/html": "<div>\n<style scoped>\n    .dataframe tbody tr th:only-of-type {\n        vertical-align: middle;\n    }\n\n    .dataframe tbody tr th {\n        vertical-align: top;\n    }\n\n    .dataframe thead th {\n        text-align: right;\n    }\n</style>\n<table border=\"1\" class=\"dataframe\">\n  <thead>\n    <tr style=\"text-align: right;\">\n      <th></th>\n      <th>keys</th>\n      <th>evaluation</th>\n    </tr>\n  </thead>\n  <tbody>\n    <tr>\n      <th>0</th>\n      <td>and</td>\n      <td>-0.001323</td>\n    </tr>\n    <tr>\n      <th>1</th>\n      <td>the</td>\n      <td>-0.002725</td>\n    </tr>\n    <tr>\n      <th>2</th>\n      <td>to</td>\n      <td>0.002387</td>\n    </tr>\n    <tr>\n      <th>3</th>\n      <td>of</td>\n      <td>-0.001911</td>\n    </tr>\n    <tr>\n      <th>4</th>\n      <td>a</td>\n      <td>-0.007624</td>\n    </tr>\n    <tr>\n      <th>...</th>\n      <td>...</td>\n      <td>...</td>\n    </tr>\n    <tr>\n      <th>61975</th>\n      <td>subvert</td>\n      <td>-0.005514</td>\n    </tr>\n    <tr>\n      <th>61976</th>\n      <td>homeshare</td>\n      <td>-0.002248</td>\n    </tr>\n    <tr>\n      <th>61977</th>\n      <td>sharpshooter</td>\n      <td>0.018649</td>\n    </tr>\n    <tr>\n      <th>61978</th>\n      <td>overabundance</td>\n      <td>0.023037</td>\n    </tr>\n    <tr>\n      <th>61979</th>\n      <td>unbearable</td>\n      <td>-0.001106</td>\n    </tr>\n  </tbody>\n</table>\n<p>61980 rows × 2 columns</p>\n</div>"
     },
     "execution_count": 21,
     "metadata": {},
     "output_type": "execute_result"
    }
   ],
   "source": [
    "# df_evalution"
   ],
   "metadata": {
    "collapsed": false,
    "pycharm": {
     "name": "#%%\n"
    }
   }
  },
  {
   "cell_type": "code",
   "execution_count": 45,
   "outputs": [],
   "source": [
    "# df_evalution.to_csv(\"df_evaluation.csv\", index=False)"
   ],
   "metadata": {
    "collapsed": false,
    "pycharm": {
     "name": "#%%\n"
    }
   }
  },
  {
   "cell_type": "code",
   "execution_count": null,
   "outputs": [],
   "source": [
    "df_evalution = pd.read_csv(\"df_evaluation.csv\")"
   ],
   "metadata": {
    "collapsed": false,
    "pycharm": {
     "name": "#%%\n"
    }
   }
  },
  {
   "cell_type": "code",
   "execution_count": 29,
   "outputs": [],
   "source": [
    "evaluation_sorted = df_evalution.sort_values(by=[\"evaluation\"], ascending=False).reset_index(drop=True)"
   ],
   "metadata": {
    "collapsed": false,
    "pycharm": {
     "name": "#%%\n"
    }
   }
  },
  {
   "cell_type": "code",
   "execution_count": 30,
   "outputs": [
    {
     "data": {
      "text/plain": "                keys  evaluation\n0                cip    0.048574\n1        operational    0.046773\n2         quantum_ai    0.046374\n3      cybersecurity    0.045827\n4                grc    0.045162\n...              ...         ...\n61975          movie   -0.056665\n61976     storybooks   -0.056700\n61977            avn   -0.057348\n61978          music   -0.057852\n61979       mixtapes   -0.058522\n\n[61980 rows x 2 columns]",
      "text/html": "<div>\n<style scoped>\n    .dataframe tbody tr th:only-of-type {\n        vertical-align: middle;\n    }\n\n    .dataframe tbody tr th {\n        vertical-align: top;\n    }\n\n    .dataframe thead th {\n        text-align: right;\n    }\n</style>\n<table border=\"1\" class=\"dataframe\">\n  <thead>\n    <tr style=\"text-align: right;\">\n      <th></th>\n      <th>keys</th>\n      <th>evaluation</th>\n    </tr>\n  </thead>\n  <tbody>\n    <tr>\n      <th>0</th>\n      <td>cip</td>\n      <td>0.048574</td>\n    </tr>\n    <tr>\n      <th>1</th>\n      <td>operational</td>\n      <td>0.046773</td>\n    </tr>\n    <tr>\n      <th>2</th>\n      <td>quantum_ai</td>\n      <td>0.046374</td>\n    </tr>\n    <tr>\n      <th>3</th>\n      <td>cybersecurity</td>\n      <td>0.045827</td>\n    </tr>\n    <tr>\n      <th>4</th>\n      <td>grc</td>\n      <td>0.045162</td>\n    </tr>\n    <tr>\n      <th>...</th>\n      <td>...</td>\n      <td>...</td>\n    </tr>\n    <tr>\n      <th>61975</th>\n      <td>movie</td>\n      <td>-0.056665</td>\n    </tr>\n    <tr>\n      <th>61976</th>\n      <td>storybooks</td>\n      <td>-0.056700</td>\n    </tr>\n    <tr>\n      <th>61977</th>\n      <td>avn</td>\n      <td>-0.057348</td>\n    </tr>\n    <tr>\n      <th>61978</th>\n      <td>music</td>\n      <td>-0.057852</td>\n    </tr>\n    <tr>\n      <th>61979</th>\n      <td>mixtapes</td>\n      <td>-0.058522</td>\n    </tr>\n  </tbody>\n</table>\n<p>61980 rows × 2 columns</p>\n</div>"
     },
     "execution_count": 30,
     "metadata": {},
     "output_type": "execute_result"
    }
   ],
   "source": [
    "evaluation_sorted"
   ],
   "metadata": {
    "collapsed": false,
    "pycharm": {
     "name": "#%%\n"
    }
   }
  },
  {
   "cell_type": "code",
   "execution_count": 44,
   "outputs": [
    {
     "data": {
      "text/plain": "[-0.01026026690235683,\n -0.02260417298816972,\n 0.02016395619139684,\n 0.014828108225301381,\n 0.007638495348504759,\n 0.012965968718111063,\n 0.0028437564015328593,\n 0.033053576657560015]"
     },
     "execution_count": 44,
     "metadata": {},
     "output_type": "execute_result"
    }
   ],
   "source": [
    "[catagory_evaluation('restaurant'), catagory_evaluation('casino'), catagory_evaluation('robotics'),catagory_evaluation('lidar'), catagory_evaluation(\"california\"), catagory_evaluation(\"self\"), catagory_evaluation(\"driving\"), catagory_evaluation(\"autonomous\")]"
   ],
   "metadata": {
    "collapsed": false,
    "pycharm": {
     "name": "#%%\n"
    }
   }
  },
  {
   "cell_type": "code",
   "execution_count": 222,
   "outputs": [
    {
     "data": {
      "text/plain": "-0.01943003850796389"
     },
     "execution_count": 222,
     "metadata": {},
     "output_type": "execute_result"
    }
   ],
   "source": [
    "sum([catagory_evaluation('nyu'), catagory_evaluation('hawaii'),catagory_evaluation('cow')])"
   ],
   "metadata": {
    "collapsed": false,
    "pycharm": {
     "name": "#%%\n"
    }
   }
  },
  {
   "cell_type": "code",
   "execution_count": 223,
   "outputs": [
    {
     "data": {
      "text/plain": "[0.001420880246299806, 0.007638495348504759, 0.03203302220546852]"
     },
     "execution_count": 223,
     "metadata": {},
     "output_type": "execute_result"
    }
   ],
   "source": [
    "[catagory_evaluation('stanford'),catagory_evaluation('california'), catagory_evaluation('quantum')]"
   ],
   "metadata": {
    "collapsed": false,
    "pycharm": {
     "name": "#%%\n"
    }
   }
  },
  {
   "cell_type": "code",
   "execution_count": 224,
   "outputs": [
    {
     "data": {
      "text/plain": "0.04109239780027309"
     },
     "execution_count": 224,
     "metadata": {},
     "output_type": "execute_result"
    }
   ],
   "source": [
    "sum([catagory_evaluation('stanford'),catagory_evaluation('california'), catagory_evaluation('quantum')])"
   ],
   "metadata": {
    "collapsed": false,
    "pycharm": {
     "name": "#%%\n"
    }
   }
  },
  {
   "cell_type": "code",
   "execution_count": 26,
   "outputs": [],
   "source": [
    "all_category_list = list(set(df_successful_frequency[0]).union(set(df_unsuccessful_frequency[0])))"
   ],
   "metadata": {
    "collapsed": false,
    "pycharm": {
     "name": "#%%\n"
    }
   }
  },
  {
   "cell_type": "code",
   "execution_count": 27,
   "outputs": [
    {
     "data": {
      "text/plain": "['wireless',\n 'location',\n 'big',\n 'biotechnology',\n 'distribution',\n 'apis',\n 'language',\n 'casual',\n 'baby',\n 'machine',\n 'guides',\n 'veterinary',\n 'battery',\n 'sales',\n 'news',\n 'market',\n 'public',\n 'auctions',\n 'saas',\n 'cannabis',\n 'accounting',\n 'measurement',\n 'peer',\n 'esports',\n 'broadcasting',\n 'funds',\n 'roid',\n 'capital',\n 'communication',\n 'it',\n 'benefits',\n 'machinery',\n 'search',\n 'dental',\n 'ehr',\n 'games',\n 'fuel',\n 'erp',\n 'retail',\n 'risk',\n 'blockchain',\n 'agtech',\n 'wholesale',\n 'identity',\n 'diagnostics',\n 'ride',\n 'privacy',\n 'mmo',\n 'higher',\n 'document',\n 'entertainment',\n 'flash',\n 'graphic',\n 'registrar',\n 'auto',\n 'green',\n 'event',\n 'procurement',\n 'outsourcing',\n 'hosting',\n 'toys',\n 'plastics',\n 'presentation',\n 'pharmaceutical',\n 'development',\n 'primary',\n 'furniture',\n 'personal',\n 'asset',\n 'level',\n 'craft',\n 'hotel',\n 'of',\n 'creative',\n 'augmented',\n 'farming',\n 'console',\n 'wellness',\n 'software',\n 'advanced',\n 'currency',\n 'gift',\n 'on',\n 'based',\n 'sustainability',\n 'law',\n 'children',\n 'facial',\n 'industry',\n 'finance',\n 'sms',\n 'storage',\n 'design',\n 'to',\n 'knowledge',\n 'improvement',\n 'project',\n 'grocery',\n 'bitcoin',\n 'buying',\n 'apps',\n 'database',\n 'employee',\n 'training',\n 'br',\n 'neuroscience',\n 'qr',\n 'cleaning',\n 'gaming',\n 'ethereum',\n 'printing',\n 'application',\n 'dry',\n 'electronic',\n 'support',\n 'fashion',\n 'laundry',\n 'lighting',\n 'optical',\n 'retargeting',\n 'clinical',\n 'electrical',\n 'supply',\n 'reading',\n 'businesses',\n 'marine',\n 'ad',\n 'care',\n 'testing',\n 'power',\n 'beauty',\n 'rental',\n 'crowdfunding',\n 'editing',\n 'day',\n 'funerals',\n 'govtech',\n 'communities',\n 'agriculture',\n 'tech',\n 'b2b',\n 'specific',\n 'ios',\n 'trials',\n 'things',\n 'technology',\n 'facility',\n 'instruments',\n 'manufacturing',\n 'biometrics',\n 'translation',\n 'politics',\n 'sponsorship',\n 'young',\n 'point',\n 'technical',\n 'learning',\n 'agency',\n 'building',\n 'engineering',\n 'classifieds',\n 'construction',\n 'communications',\n 'social',\n 'recycling',\n 'card',\n 'intelligent',\n 'recognition',\n 'small',\n 'call',\n 'portals',\n 'investing',\n 'soccer',\n 'satellite',\n 'interaction',\n 'messaging',\n 'interior',\n 'gas',\n 'lscaping',\n 'gps',\n 'comparison',\n 'hedge',\n 'productivity',\n 'internet',\n 'metals',\n 'hardware',\n 'robotics',\n 'meeting',\n 'multi',\n 'serious',\n 'cad',\n 'embedded',\n 'environmental',\n 'virtual',\n 'mile',\n 'sharing',\n 'hmade',\n 'diabetes',\n 'codes',\n 'industrial',\n 'dem',\n 'assessment',\n 'sale',\n 'energy',\n 'collaboration',\n 'discovery',\n 'beer',\n 'integration',\n 'extensions',\n 'coworking',\n 'banking',\n 'innovation',\n 'self',\n 'photo',\n 'cloud',\n 'streaming',\n 'association',\n 'staffing',\n 'server',\n 'online',\n 'smart',\n 'analytics',\n 'aerospace',\n 'water',\n 'travel',\n 'automotive',\n 'fintech',\n 'genetics',\n 'organic',\n 'ebooks',\n 'group',\n 'b2c',\n 'test',\n 'collaborative',\n 'leisure',\n 'performing',\n 'oil',\n 'concerts',\n 'sensor',\n 'assistant',\n 'sem',\n 'infrastructure',\n 'product',\n 'beverage',\n 'wealth',\n 'wine',\n 'quantum',\n 'diy',\n 'advertising',\n 'vision',\n 'gamification',\n 'resource',\n 'freelance',\n 'fantasy',\n 'signage',\n 'operator',\n 'enterprise',\n 'safety',\n 'music',\n 'employment',\n 'cards',\n 'logistics',\n 'fraud',\n 'visualization',\n 'debit',\n 'universities',\n 'ict',\n 'cyber',\n 'iaas',\n 'renovation',\n 'vehicles',\n 'content',\n 'personalization',\n 'research',\n 'space',\n 'publishing',\n 'architecture',\n 'government',\n 'arts',\n 'telecommunications',\n 'museums',\n 'parenting',\n 'impact',\n 'civil',\n 'hospital',\n 'sex',\n 'credit',\n 'ux',\n 'national',\n 'syndication',\n 'railroad',\n 'source',\n 'lending',\n 'resources',\n 'science',\n 'windows',\n 'navigation',\n 'stock',\n 'professional',\n 'trading',\n 'efficiency',\n 'management',\n 'applications',\n 'engine',\n 'desktop',\n 'programs',\n 'computer',\n 'assistive',\n 'quantified',\n 'secondary',\n 'automation',\n 'ediscovery',\n 'bookmarking',\n 'career',\n 'tour',\n 'adults',\n 'fitness',\n 'developer',\n 'seo',\n 'compliance',\n 'nanotechnology',\n 'accommodations',\n 'shopping',\n 'service',\n 'intelligence',\n 'venture',\n 'tv',\n 'isp',\n 'office',\n 'image',\n 'tools',\n 'vertical',\n 'processing',\n 'fleet',\n 'targeting',\n 'electronics',\n 'private',\n 'charity',\n 'marketing',\n 'edtech',\n 'electric',\n 'consulting',\n 'performance',\n 'detection',\n 'last',\n 'mining',\n 'commerce',\n 'profit',\n 'cycling',\n 'commercial',\n 'renewable',\n 'outdoors',\n 'reviews',\n 'conferencing',\n 'historical',\n 'restaurants',\n 'web',\n 'subscription',\n 'biopharma',\n 'predictive',\n 'semiconductor',\n 'nfc',\n 'paas',\n 'medical',\n 'natural',\n 'sites',\n 'solar',\n 'contact',\n 'speech',\n 'administration',\n 'world',\n 'investment',\n 'email',\n 'residential',\n 'mobile',\n 'goods',\n 'transportation',\n 'home',\n 'cities',\n 'data',\n 'affiliate',\n 'grid',\n 'family',\n 'medium',\n 'local',\n 'loyalty',\n 'lifestyle',\n 'art',\n 'radio',\n 'digital',\n 'devices',\n 'gambling',\n 'economy',\n 'drone',\n 'services',\n 'insurtech',\n 'reservations',\n 'artificial',\n 'estate',\n 'financial',\n 'garden',\n 'center',\n 'creators',\n 'wearables',\n 'corporate',\n 'adventure',\n 'fast',\n 'record',\n 'legal',\n 'life',\n 'coupons',\n 'price',\n 'customer',\n 'sports',\n 'task',\n 'business',\n 'therapeutics',\n 'direct',\n 'macos',\n 'autonomous',\n 'warehousing',\n 'lgbt',\n 'insurance',\n 'bring',\n 'fossil',\n 'recruiting',\n 'file',\n 'gpu',\n 'elder',\n 'pet',\n 'drones',\n 'domain',\n 'incubators',\n 'rfid',\n 'information',\n 'browser',\n 'intellectual',\n 'food',\n 'property',\n 'networking',\n 'enforcement',\n 'health',\n 'promotion',\n 'planning',\n 'lead',\n 'voip',\n 'google',\n 'leasing',\n 'homel',\n 'scheduling',\n 'fuels',\n 'theatre',\n 'production',\n 'systems',\n 'penetration',\n 'virtualization',\n 'wind',\n 'computing',\n 'platform',\n 'visual',\n 'sporting',\n 'materials',\n 'hospitality',\n 'asic',\n 'physical',\n 'schools',\n 'human',\n 'collectibles',\n 'presentations',\n 'delivery',\n 'video',\n 'cryptocurrency',\n 'rubber',\n 'transaction',\n 'twitter',\n 'celebrity',\n 'vacation',\n 'photography',\n 'circuit',\n 'freemium',\n 'podcast',\n 'network',\n 'purification',\n 'app',\n 'reputation',\n 'film',\n 'simulation',\n 'funding',\n 'bioinformatics',\n 'relations',\n 'payments',\n 'audio',\n 'tourism',\n 'underserved',\n 'moving',\n 'workforce',\n 'reality',\n 'consumer',\n 'billing',\n 'military',\n 'charter',\n 'browsers',\n 'shipping',\n 'education',\n 'pc',\n 'time',\n 'field',\n 'chat',\n 'geospatial',\n 'advice',\n 'open',\n 'facebook',\n 'mhealth',\n 'skill',\n 'aquaculture',\n 'media',\n 'intrusion',\n 'maintenance',\n 'tutoring',\n 'dating',\n 'security',\n 'mooc',\n 'blogging',\n 'exchanges',\n 'vehicle',\n 'musical',\n 'clean',\n 'mapping',\n 'generation',\n 'unified',\n 'wedding',\n 'semantic',\n 'glass',\n 'device',\n 'precious',\n 'animation',\n 'parking',\n 'waste',\n 'stem',\n 'platforms',\n 'crowdsourcing',\n 'crm',\n 'events',\n 'continuing',\n 'chain',\n 'ticketing',\n 'spirits',\n 'operating',\n 'marketplace',\n 'mechanical',\n 'text',\n 'cleantech',\n 'real',\n 'non',\n 'consumption',\n 'integrated',\n 'elderly',\n 'same']"
     },
     "execution_count": 27,
     "metadata": {},
     "output_type": "execute_result"
    }
   ],
   "source": [
    "all_category_list"
   ],
   "metadata": {
    "collapsed": false,
    "pycharm": {
     "name": "#%%\n"
    }
   }
  },
  {
   "cell_type": "code",
   "execution_count": 31,
   "outputs": [
    {
     "name": "stdout",
     "output_type": "stream",
     "text": [
      "roid not in key set\n",
      "communication not in key set\n",
      "communities not in key set\n",
      "communications not in key set\n",
      "lscaping not in key set\n",
      "comparison not in key set\n",
      "hmade not in key set\n",
      "telecommunications not in key set\n",
      "computer not in key set\n",
      "compliance not in key set\n",
      "accommodations not in key set\n",
      "commerce not in key set\n",
      "commercial not in key set\n",
      "homel not in key set\n",
      "computing not in key set\n"
     ]
    }
   ],
   "source": [
    "all_score_list = []\n",
    "for key in all_category_list:\n",
    "    try:\n",
    "        all_score_list += [float(evaluation_sorted[evaluation_sorted[\"keys\"]==key][\"evaluation\"])]\n",
    "    except:\n",
    "        all_score_list += [0]\n",
    "        print(f'{key} not in key set')\n",
    "\n"
   ],
   "metadata": {
    "collapsed": false,
    "pycharm": {
     "name": "#%%\n"
    }
   }
  },
  {
   "cell_type": "code",
   "execution_count": 32,
   "outputs": [
    {
     "data": {
      "text/plain": "[0.007721769959419898,\n 0.0010528173198953968,\n 0.006292957347824427,\n 0.00641111285430538,\n -0.009576994246236798,\n 0.012504154841549023,\n -0.006652288945519947,\n -0.04164769116005356,\n -0.018255121452753587,\n 0.02555270917095597,\n -0.023746533481577677,\n 0.007957409388194754,\n 0.01363244361415712,\n -0.010233407078634908,\n -0.029160778020045918,\n 0.005589017766664015,\n 0.00500536202060606,\n -0.023178511027342554,\n 0.018497293902657853,\n 0.004116784514782831,\n 0.03278968772890906,\n 0.016617523222675748,\n -0.0003213493658301582,\n -0.03649100181628036,\n -0.03929979439665975,\n 0.013139591592911995,\n 0,\n 0.02368777479428534,\n 0,\n 0.0012638066610177149,\n 0.015427174235192713,\n 0.019124277012386275,\n -0.028572976438055304,\n 0.005786313436830734,\n 0.019777410917648553,\n -0.04914141711026971,\n 0.0169913330964469,\n 0.030289416293253164,\n -0.002690797181646145,\n 0.03616593893641917,\n 0.021858360494559588,\n 0.015301289476278145,\n -0.001998045996291723,\n 0.0030673660855742814,\n 0.015364883445809371,\n -0.00868523907761465,\n 0.022128378326908046,\n -0.03247669070508681,\n 0.0034097910998418654,\n 0.011363200778567903,\n -0.04253977687424295,\n -0.027133553762731858,\n -0.03893967829952886,\n 0.008880200192167547,\n 0.005605677004081429,\n 0.006321220905574522,\n -0.026950583352839064,\n 0.030600424964843918,\n 0.028436754927054494,\n -0.00908555876434686,\n -0.035476742950993734,\n 0.019118764850810762,\n -0.025459497309751798,\n 0.008821127751166743,\n -0.004571067852042781,\n 0.017883331458473983,\n -0.00987789730630583,\n -0.0002716761852373312,\n 0.026017823898864437,\n 0.0221222927469643,\n -0.022608422302207016,\n -0.010300418506896726,\n -0.0019110766531534658,\n -0.0299902942608333,\n -0.004573612460953629,\n 0.02099527109043344,\n -0.014465484392812021,\n 0.0008846342992563997,\n 0.018175359510752987,\n 0.021148858269385527,\n -0.0023473517989636575,\n -0.023164543330802794,\n -0.002275834767055555,\n -0.0008482432433532952,\n 0.01894396998843826,\n 0.009660623673307172,\n -0.018431224326107623,\n -0.009577038322814835,\n 0.011345512162765333,\n 0.021401028658023426,\n -0.021643519609199743,\n 0.031182260729276677,\n -0.015149716547325972,\n 0.0023866080099805478,\n 0.01876980949018026,\n 0.01828075411438943,\n 0.012716875207762724,\n -0.009400560145531237,\n 0.003633554868726609,\n -0.017514086218122973,\n -0.030388496351548815,\n 0.0062365858283476945,\n 0.007326400561365368,\n 0.001566897671956247,\n -0.009685956090238363,\n 0.007237014522123749,\n -0.013148556966210386,\n 0.021494041198073865,\n -0.03437512975166205,\n 0.01026595369369271,\n -0.008567004482387317,\n -0.0013004001255004709,\n 0.010260513133012244,\n 0.007207562543828611,\n 0.0233495670193281,\n -0.04485238481207421,\n 0.016623869051939542,\n -0.0033455933400895724,\n 0.006560576964095665,\n -0.03211775046134426,\n 0.019367025620917473,\n 0.017945872250082557,\n 0.027307725649182817,\n -0.02514864497180825,\n -9.761860500586181e-05,\n 0.024420699882199585,\n -0.03220702897491698,\n 0.01749040537475636,\n 0.01651738894611282,\n 0.013418717614636387,\n -0.02671590536279672,\n -0.009304467304731025,\n -0.01931765499302684,\n -0.026678133153996298,\n 0.0027201433046156118,\n -0.017159611792611565,\n 0.008948834855469743,\n 0,\n 0.0229206918626628,\n -0.0022356914191872523,\n -0.0007983164783947916,\n 0.0055217347849098875,\n -0.02848568383780327,\n 0.006789017126083772,\n -0.012590484595014525,\n 0.01931287619733126,\n 0.01962927387951175,\n 0.0075115777136066375,\n 0.01809013256653188,\n 0.020028677464077792,\n -0.0001096585305349373,\n -0.015551393838162248,\n -0.037209489458725216,\n -0.03260450852475662,\n 0.01819729823605494,\n 0.01965764616039073,\n 0.0031474720765479487,\n -0.013924286184785127,\n 0.0037857764858022273,\n 0.022264174276255235,\n -0.05249009535707973,\n 0.017094591093176466,\n 0,\n -0.031159665266073666,\n 0.02092992967078467,\n 0.006710813741859553,\n 0.0181117512420848,\n -0.00871135678123354,\n 0.007323230729772525,\n 0.0002497800574780283,\n -0.013982433730117153,\n 0.008795359452367736,\n -0.03378888817653871,\n 0.002452714954841059,\n -0.01273066799001473,\n -0.02070584450023283,\n -0.0143027956492078,\n 0.012238885356850575,\n 0,\n 0.0065441368479670905,\n 0,\n 0.02310091373268252,\n 0.013870732496105589,\n -0.013617477203982922,\n 0.02076564909359035,\n 0.021282276125108333,\n 0.02016395619139684,\n 0.001537552657608327,\n 0.0053089708788340495,\n -0.009662391442696101,\n 0.010889416836368737,\n 0.010357561889610166,\n 0.023328457552423687,\n -0.009738454481669078,\n 0.019530084313036503,\n -0.019954122389510533,\n 0,\n -0.0021715996269798046,\n -0.012587277537952182,\n 0.03003340285765524,\n -0.00041818724963138564,\n 0.026253150431901354,\n -0.007818584407474165,\n 0.028956324901587185,\n 0.0025976038236199114,\n -0.01499052751611646,\n -0.025860000852829353,\n 0.021530040242909845,\n -0.029658835537026702,\n -0.006165397031423477,\n 0.02143255705504783,\n 0.00978934874197691,\n 0.012965968718111063,\n -0.040164727934217236,\n 0.02800844766742773,\n -0.032605830581101794,\n -0.0017931916957710685,\n 0.015021491148111271,\n 0.019308598749118555,\n -0.03266204653144483,\n 0.007266531755812625,\n 0.02076004435286977,\n 0.02775241333388952,\n 0.02596698970286184,\n -0.026763505753609907,\n 0.005893438659022101,\n 0.021752723714685188,\n 0.01397034031432687,\n -0.008689979941842896,\n -0.049184723362319056,\n -0.001216877646200352,\n -0.013185706685743875,\n 0.010700692443499457,\n -0.000312593928581994,\n -0.02161507745215803,\n -0.008455167846014897,\n 0.012976167168304348,\n -0.04279634403700751,\n 0.024385285158365515,\n -0.000787979285722266,\n -0.025646812752966507,\n 0.038429760786356855,\n -0.005630067531170067,\n 0.0009835294534300705,\n 0.013383388948239733,\n -0.022739536741149497,\n 0.03203302220546852,\n -0.027771628560666926,\n -0.044614749750178644,\n 0.021556773143790224,\n -0.024124864795500835,\n 0.010541357699642845,\n -0.026186936663915545,\n -0.03518177706269778,\n -0.022739405351960243,\n 0.003996013466400057,\n 0.027197625216065606,\n 0.02363336570198148,\n -0.05785244141947616,\n -0.0004971869930934897,\n -0.00892633450016884,\n 0.03386601288089872,\n 0.020381656366650472,\n 0.012766132755408405,\n 0.015167910581089128,\n -0.0020186628500858056,\n 0.017627805919493138,\n 0.039050185923267325,\n 0.032772421024209075,\n 0.008582250205107838,\n 0.0134416382406901,\n -0.03643732381874406,\n -0.0098804489423585,\n 0.006239368915455792,\n 0.0041043695871398386,\n -0.04078326751370313,\n 0.01983519939541502,\n 0.02424455463924968,\n -0.026329506742372732,\n 0,\n -0.023332171653123606,\n -0.023179904359817424,\n -0.000380650315146011,\n 0.016564282742243263,\n 0.023494677536334975,\n -0.025711945811407278,\n 0.030121730200054358,\n -0.01646921625786713,\n 0.007809713324162915,\n -0.029697248132390167,\n 0.025200861211287645,\n 0.012342598882061353,\n 0.0335581918040251,\n 0.01647593706687289,\n 0.009043538181111505,\n 0.001500790369834762,\n -0.002014368468767395,\n -0.005995771151981367,\n -0.009402183509198445,\n 0.019429241424475985,\n 0.02781121957209526,\n 0.021811921426455688,\n 0.007272675122351654,\n -0.00955832712663428,\n -0.005791100544490015,\n -0.005795439278014684,\n 0,\n 0.005129939236884487,\n 0.016499858965194576,\n 0.005808910188568298,\n 0.029901948873985635,\n 0.03195725773375293,\n -0.03259940805090044,\n -0.011374916966913829,\n -0.024783792928463052,\n -0.018598414977223105,\n -0.016559458390183385,\n -0.002524729037488264,\n -0.02829657329991839,\n 0,\n 0.017164870658085606,\n 0,\n -0.029070908991270517,\n 0.008419930587988482,\n 0.029789013400268145,\n 0.009958007851944454,\n -0.05389975636717712,\n 0.01275837526172176,\n 0.019770468864418154,\n -0.012344775145298326,\n 0.0054049490771068505,\n 0.005013166434340584,\n 0.02974126348041083,\n 0.027846294969257845,\n -0.014100111955782204,\n 0.001992810816473454,\n 0.00948331150572498,\n -0.015659785999260413,\n -0.02484484780780263,\n -0.008495065566788418,\n 0.01855482736070547,\n 0.0197251008719324,\n 0.016861513305340668,\n 0.02353774860011872,\n -0.012272520730579247,\n 0.0316939673986891,\n 0,\n -0.0006567570510420893,\n -0.01909794283106357,\n 0,\n 0.018500580186545924,\n -0.020962155397440133,\n -0.023392491258265178,\n -0.015527785417133576,\n 0.007659535493114943,\n -0.018276186853385393,\n -0.023014147457046566,\n -0.014138351386798906,\n 0.010341122904184829,\n 0.02846004213016325,\n 0.017854727027341342,\n 0.003690167723058853,\n 0.01930962207630889,\n 0.015390750015540985,\n 0.005055446011736326,\n -0.03450302490084365,\n 0.013346424612618472,\n 0.0014990288215003548,\n -0.003981483022225753,\n 0.023596823355725032,\n -0.0014860162439295252,\n 0.019977450955928736,\n -0.014808337534721583,\n 0.01471934247807947,\n -0.024157084795246763,\n -0.005282295290349255,\n 0.03199051986943927,\n -0.002377014378297492,\n -0.008422761576109612,\n 0.030181129920885476,\n -0.021857336373233106,\n 0.021857017486126448,\n 0.0011679311800180774,\n 0.001370098473679065,\n -0.014363793758510457,\n -0.012942963803872165,\n -0.03156329961582992,\n -0.0070656976592067934,\n -0.039969358003750205,\n -0.022432221058642843,\n 0.0012255668991931381,\n -0.02977980051075242,\n 0.0011046468512641008,\n 0.01687478041532699,\n 0.014794570155832331,\n 0.009566258257837234,\n -0.0062778445212138675,\n 0.024758927754193267,\n 0.0035734200706063197,\n 0.035917270304263706,\n -0.008748735556791645,\n 0.017138727520889557,\n -0.035112508022398535,\n -0.0028455249979233935,\n 0.004398890739183397,\n -0.030880018280890018,\n 0.005171555573008402,\n 0.0026561464569752834,\n 0.011345135569300807,\n 0.0024513021737561126,\n -0.036336110967617435,\n -0.0021292621620923042,\n 0.010119349515270326,\n -0.040670797276417266,\n 0.006645389721211763,\n 0.012538207332085693,\n -0.005606481309268423,\n -0.01066613656852814,\n -0.001826312207588943,\n 0.033053576657560015,\n 0.03254529692015859,\n -0.02549040480441331,\n 0.01455859516966128,\n -8.198483548263602e-05,\n 0.013606819745178087,\n -0.007193114142216924,\n 0.008299485591048792,\n 0.021741177436897387,\n 0.0070206036341328975,\n -0.0028543102912887163,\n 0.016385920901478924,\n -0.004776229036043719,\n 0.005856772335546238,\n 0.013454651691488542,\n 0.012659530045213918,\n -0.01415491353042185,\n 0.004313016126521123,\n 0.005845422468205013,\n 0.0040673324023872155,\n -0.011682315753620996,\n 0.013799744472418413,\n 0.014052134188464786,\n -0.03938610612333969,\n 0.007948266654267625,\n -0.014678845212960418,\n 0.011795661286327726,\n -0.019629695448123922,\n 0.011976180999110112,\n 0,\n 0.005551945373691065,\n 0.011448926874516489,\n -0.03814650174938129,\n -0.01857318028686098,\n 0.03065024336539819,\n 0.016964671971537063,\n 0.03623915411950221,\n 0.013604397460896065,\n 0,\n -0.0005179822378858888,\n -0.029173952778089554,\n -0.0263759117985458,\n 0.005388225358624445,\n 0.0014846909432144552,\n 0.018486310200225533,\n 0.0002567205821993378,\n -0.0029445471223665236,\n 0.023076898622345337,\n -0.03774385015879387,\n -0.03403545107039322,\n 0.009322087148886294,\n -0.04006808174689245,\n 0.01597056611686784,\n 0.007494025436741179,\n 0.027756915961618497,\n -0.027352612407905486,\n -0.052540424186270314,\n -0.02435283297130672,\n -0.04431075690858494,\n 0.0008477200410420522,\n -0.01924868708626741,\n -0.05055234788470879,\n -0.00022314029811629368,\n 0.024142608113208258,\n -0.03109361225395395,\n -0.002055021448310129,\n -0.0471608612986731,\n 0.01656445161152584,\n 0.014124788668489287,\n 0.024764588335394584,\n -0.012820208309183307,\n 0.011955514276397742,\n -0.032131988456655214,\n -0.01898137198982502,\n 0.005879600776642671,\n 0.016350237551883712,\n 0.018225021391212265,\n -0.009715125572595289,\n -0.0028585010953420032,\n 0.02563446402425113,\n 0.022919172795752518,\n 0.014552246453908076,\n -0.019295092820826764,\n 0.012047858057947253,\n 6.791737842096396e-05,\n -0.010582214199779057,\n 0.005758164386516854,\n 0.012035843588140983,\n -0.031149889096672306,\n 0.03471377836368982,\n 0.004782293779295311,\n 0.005851742505514554,\n -0.03839520598098497,\n -8.579840017774421e-05,\n 0.001200574391984008,\n 0.02030544643322499,\n -0.042734279784211474,\n 0.021374346569500515,\n 0.02166401895394901,\n -0.004999807040697646,\n -0.03385360810749965,\n 0.03839128359098675,\n -0.006357689893981264,\n -0.04435754018316003,\n 0.006283554514122342,\n 0.017116391068275585,\n -0.038228157414500974,\n 0.020214608423579434,\n 0.011281457143612705,\n 0.0021374482021889827,\n 0.016096249574999225,\n -0.03960317556542479,\n 0.008181900527377209,\n -0.0006913579926856986,\n 0.0075192960167376945,\n 0.01677629492480122,\n -0.041856022727314666,\n 0.012001215497260081,\n 0.02268060814919394,\n -0.007610929150601668,\n -0.009693098840149692,\n 0.0016370633449956055,\n 0.009152329915628473,\n -0.03887042803251755,\n -0.006052841489658965,\n 0.017572494733255613,\n -0.017678495222433952,\n -0.02235991717806912,\n 0.022304086618192793,\n -0.012841366122878355,\n 0.0218314733614809,\n -0.023942080449140778,\n 0.008949819662180152,\n 0.0025160711718306907,\n 0.006543326136255857,\n 0.0004788888797368243,\n 0.013856002762331995,\n 0.006205123254917275,\n -0.004915239291408747]"
     },
     "execution_count": 32,
     "metadata": {},
     "output_type": "execute_result"
    }
   ],
   "source": [
    "all_score_list"
   ],
   "metadata": {
    "collapsed": false,
    "pycharm": {
     "name": "#%%\n"
    }
   }
  },
  {
   "cell_type": "code",
   "execution_count": 33,
   "outputs": [],
   "source": [
    "all_category_score = pd.DataFrame({\n",
    "    \"category\" : all_category_list,\n",
    "    \"score\": all_score_list\n",
    "})"
   ],
   "metadata": {
    "collapsed": false,
    "pycharm": {
     "name": "#%%\n"
    }
   }
  },
  {
   "cell_type": "code",
   "execution_count": 35,
   "outputs": [],
   "source": [
    "all_category_sorted = all_category_score.sort_values(by=[\"score\"], ascending=False).reset_index(drop=True)"
   ],
   "metadata": {
    "collapsed": false,
    "pycharm": {
     "name": "#%%\n"
    }
   }
  },
  {
   "cell_type": "code",
   "execution_count": 36,
   "outputs": [
    {
     "data": {
      "text/plain": "           category     score\n0             cyber  0.039050\n1    infrastructure  0.038430\n2          security  0.038391\n3    virtualization  0.036239\n4              risk  0.036166\n..              ...       ...\n553         podcast -0.050552\n554     classifieds -0.052490\n555       celebrity -0.052540\n556              tv -0.053900\n557           music -0.057852\n\n[558 rows x 2 columns]",
      "text/html": "<div>\n<style scoped>\n    .dataframe tbody tr th:only-of-type {\n        vertical-align: middle;\n    }\n\n    .dataframe tbody tr th {\n        vertical-align: top;\n    }\n\n    .dataframe thead th {\n        text-align: right;\n    }\n</style>\n<table border=\"1\" class=\"dataframe\">\n  <thead>\n    <tr style=\"text-align: right;\">\n      <th></th>\n      <th>category</th>\n      <th>score</th>\n    </tr>\n  </thead>\n  <tbody>\n    <tr>\n      <th>0</th>\n      <td>cyber</td>\n      <td>0.039050</td>\n    </tr>\n    <tr>\n      <th>1</th>\n      <td>infrastructure</td>\n      <td>0.038430</td>\n    </tr>\n    <tr>\n      <th>2</th>\n      <td>security</td>\n      <td>0.038391</td>\n    </tr>\n    <tr>\n      <th>3</th>\n      <td>virtualization</td>\n      <td>0.036239</td>\n    </tr>\n    <tr>\n      <th>4</th>\n      <td>risk</td>\n      <td>0.036166</td>\n    </tr>\n    <tr>\n      <th>...</th>\n      <td>...</td>\n      <td>...</td>\n    </tr>\n    <tr>\n      <th>553</th>\n      <td>podcast</td>\n      <td>-0.050552</td>\n    </tr>\n    <tr>\n      <th>554</th>\n      <td>classifieds</td>\n      <td>-0.052490</td>\n    </tr>\n    <tr>\n      <th>555</th>\n      <td>celebrity</td>\n      <td>-0.052540</td>\n    </tr>\n    <tr>\n      <th>556</th>\n      <td>tv</td>\n      <td>-0.053900</td>\n    </tr>\n    <tr>\n      <th>557</th>\n      <td>music</td>\n      <td>-0.057852</td>\n    </tr>\n  </tbody>\n</table>\n<p>558 rows × 2 columns</p>\n</div>"
     },
     "execution_count": 36,
     "metadata": {},
     "output_type": "execute_result"
    }
   ],
   "source": [
    "all_category_sorted"
   ],
   "metadata": {
    "collapsed": false,
    "pycharm": {
     "name": "#%%\n"
    }
   }
  },
  {
   "cell_type": "code",
   "execution_count": 225,
   "outputs": [],
   "source": [
    "def top_n_average_calculation(df_frequency, n_start,  n_end):\n",
    "    rate_list = []\n",
    "    for catagory in df_frequency[0][n_start:n_end]:\n",
    "        rate = catagory_evaluation(catagory)\n",
    "        rate_list += [rate]\n",
    "    average = sum(rate_list) / len(rate_list)\n",
    "    print(rate_list)\n",
    "    return average\n",
    "\n",
    "def fact_check(df_frequency, entry_number_start, entry_number_end):\n",
    "    \"\"\"check if the mean score of successful is bigger than that of unsuccessful\"\"\"\n",
    "    average = top_n_average_calculation(df_frequency, entry_number_start,  entry_number_end)\n",
    "    print(f\"top {entry_number_start} to top {entry_number_end}  category mean score: {average}\")\n"
   ],
   "metadata": {
    "collapsed": false,
    "pycharm": {
     "name": "#%%\n"
    }
   }
  },
  {
   "cell_type": "code",
   "execution_count": 228,
   "outputs": [
    {
     "name": "stdout",
     "output_type": "stream",
     "text": [
      "computer not in key set\n",
      "commerce not in key set\n",
      "[0.039050185923267325, 0.02016395619139684, 0, -0.002524729037488264, -0.00022314029811629368, 0, -0.042734279784211474, 0.012538207332085693, -0.023014147457046566, 0.021282276125108333]\n",
      "top 30 to top 40  category mean score: 0.0024538328994995594\n"
     ]
    }
   ],
   "source": [
    "fact_check(df_successful_frequency, 30, 40)"
   ],
   "metadata": {
    "collapsed": false,
    "pycharm": {
     "name": "#%%\n"
    }
   }
  },
  {
   "cell_type": "code",
   "execution_count": 229,
   "outputs": [
    {
     "name": "stdout",
     "output_type": "stream",
     "text": [
      "[0.021282276125108333, 0.02555270917095597, -0.023014147457046566, -0.02848568383780327, -0.022432221058642843, -0.008495065566788418, 0.029901948873985635, 0.009152329915628473, 0.011955514276397742, -0.0019110766531534658]\n",
      "top 30 to top 40  category mean score: 0.0013506583788641595\n"
     ]
    }
   ],
   "source": [
    "fact_check(df_unsuccessful_frequency, 30, 40)"
   ],
   "metadata": {
    "collapsed": false,
    "pycharm": {
     "name": "#%%\n"
    }
   }
  },
  {
   "cell_type": "code",
   "execution_count": null,
   "outputs": [],
   "source": [],
   "metadata": {
    "collapsed": false,
    "pycharm": {
     "name": "#%%\n"
    }
   }
  }
 ],
 "metadata": {
  "kernelspec": {
   "display_name": "Python 3",
   "language": "python",
   "name": "python3"
  },
  "language_info": {
   "codemirror_mode": {
    "name": "ipython",
    "version": 2
   },
   "file_extension": ".py",
   "mimetype": "text/x-python",
   "name": "python",
   "nbconvert_exporter": "python",
   "pygments_lexer": "ipython2",
   "version": "2.7.6"
  }
 },
 "nbformat": 4,
 "nbformat_minor": 0
}