{
 "cells": [
  {
   "cell_type": "markdown",
   "source": [
    "# NLP model train\n",
    "Train NLP model from company descriptions\n",
    "\n",
    "## Sections\n",
    "1. we clean the data using regular expression, and tokenize it into sentences\n",
    "2. we feed the sentences into the Word2Vec model, train it and save the model\n",
    "\n",
    "## Input\n",
    "1. Company short and long description with countries.csv\n",
    "\n",
    "## Output\n",
    "1. Trained Word2Vec model: liren_model_better.bin\n",
    "\n",
    "v1.0: Liren SONG, Oxford, Dec 17 2021"
   ],
   "metadata": {
    "collapsed": false,
    "pycharm": {
     "name": "#%% md\n"
    }
   }
  },
  {
   "cell_type": "code",
   "execution_count": 1,
   "metadata": {
    "collapsed": true
   },
   "outputs": [],
   "source": [
    "import pandas as pd\n",
    "import nltk\n",
    "import re\n",
    "import json\n",
    "from gensim.models import Word2Vec\n",
    "import multiprocessing"
   ]
  },
  {
   "cell_type": "code",
   "execution_count": 4,
   "outputs": [
    {
     "data": {
      "text/plain": "326177"
     },
     "execution_count": 4,
     "metadata": {},
     "output_type": "execute_result"
    }
   ],
   "source": [
    "# read in data\n",
    "df = pd.read_csv('Company short and long description with countries.csv').copy(deep=True)\n",
    "# only keep the USA data for easy processing\n",
    "# todo: other languages support. Note that the tokenizing process will be different\n",
    "df_description = df[(df[\"country_code\"] == 'USA')]['description']\n",
    "df_description.shape[0]"
   ],
   "metadata": {
    "collapsed": false,
    "pycharm": {
     "name": "#%%\n"
    }
   }
  },
  {
   "cell_type": "code",
   "execution_count": 5,
   "outputs": [
    {
     "data": {
      "text/plain": "\"['CrossRoads Shooting Sports is a full-service facility with a core focus on safe handling, sport shooting, and personal protection. Their key features include a full-service Indoor Shooting Range and Training Center with a Simulation system. The participants have the opportunity to enhance their skills, knowledge, and fluency through interactive events and activities. It also has a full-service retail supporting this core philosophy is also available. It was founded in 2014 and is based in John\""
     },
     "execution_count": 5,
     "metadata": {},
     "output_type": "execute_result"
    }
   ],
   "source": [
    "# before tokenizing: long string of all the description appended to one another\n",
    "description_string = str(list(df_description))\n",
    "description_string[0:500]"
   ],
   "metadata": {
    "collapsed": false,
    "pycharm": {
     "name": "#%%\n"
    }
   }
  },
  {
   "cell_type": "code",
   "execution_count": 6,
   "outputs": [
    {
     "data": {
      "text/plain": "[\"['CrossRoads Shooting Sports is a full-service facility with a core focus on safe handling, sport shooting, and personal protection.\",\n 'Their key features include a full-service Indoor Shooting Range and Training Center with a Simulation system.',\n 'The participants have the opportunity to enhance their skills, knowledge, and fluency through interactive events and activities.',\n 'It also has a full-service retail supporting this core philosophy is also available.',\n 'It was founded in 2014 and is based in Johnston, Iowa.']"
     },
     "execution_count": 6,
     "metadata": {},
     "output_type": "execute_result"
    }
   ],
   "source": [
    "# after tokenizing: split into sentence strings\n",
    "tokenizer = nltk.tokenize.punkt.PunktSentenceTokenizer()\n",
    "description_sentences = tokenizer.tokenize(description_string)\n",
    "description_sentences[0:5]"
   ],
   "metadata": {
    "collapsed": false,
    "pycharm": {
     "name": "#%%\n"
    }
   }
  },
  {
   "cell_type": "code",
   "execution_count": 7,
   "outputs": [],
   "source": [
    "# clean the sentence tokens\n",
    "def clean_sentences(text):\n",
    "    \"\"\"Make text lowercase, remove punctuation and remove words containing numbers.\"\"\"\n",
    "    text = re.sub(r'[^\\w]', ' ', text)  # clear all things except underscore and alphanumeric\n",
    "    text = re.sub(\" \\d+\", \" \", text)  # clear all digits\n",
    "    text = text.lower()  # lower all text\n",
    "\n",
    "    # replace webpage\n",
    "    # todo: this part can be further fine tuned\n",
    "    patterns = ['http', 'www', 'com']\n",
    "    for pattern in patterns:\n",
    "        text = re.sub(pattern, '', text)\n",
    "    return text"
   ],
   "metadata": {
    "collapsed": false,
    "pycharm": {
     "name": "#%%\n"
    }
   }
  },
  {
   "cell_type": "code",
   "execution_count": 8,
   "outputs": [
    {
     "data": {
      "text/plain": "['  crossroads shooting sports is a full service facility with a core focus on safe handling  sport shooting  and personal protection ',\n 'their key features include a full service indoor shooting range and training center with a simulation system ',\n 'the participants have the opportunity to enhance their skills  knowledge  and fluency through interactive events and activities ',\n 'it also has a full service retail supporting this core philosophy is also available ',\n 'it was founded in  and is based in johnston  iowa ',\n '    clinicnote is an electronic medical record used by university therapy teaching programs and private practice therapy clinics ',\n '    men s style lab is an online concierge subscription clothing helping men look their best with great clothes that fit both life and style ',\n 'it was founded in  and is headquartered in des moines  iowa ',\n '    everstream is a cleveland based network service provider bringing fiber based ethernet  internet and data center solutions to businesses throughout northeast ohio ',\n 'we focus on delivering best in class network solutions while providing an unrivaled mitment to customer service ']"
     },
     "execution_count": 8,
     "metadata": {},
     "output_type": "execute_result"
    }
   ],
   "source": [
    "cleaned_sentences = [clean_sentences(line) for line in description_sentences]\n",
    "cleaned_sentences[0:10]"
   ],
   "metadata": {
    "collapsed": false,
    "pycharm": {
     "name": "#%%\n"
    }
   }
  },
  {
   "cell_type": "code",
   "execution_count": 15,
   "outputs": [
    {
     "data": {
      "text/plain": "[['crossroads',\n  'shooting',\n  'sports',\n  'is',\n  'a',\n  'full',\n  'service',\n  'facility',\n  'with',\n  'a',\n  'core',\n  'focus',\n  'on',\n  'safe',\n  'handling',\n  'sport',\n  'shooting',\n  'and',\n  'personal',\n  'protection'],\n ['their',\n  'key',\n  'features',\n  'include',\n  'a',\n  'full',\n  'service',\n  'indoor',\n  'shooting',\n  'range',\n  'and',\n  'training',\n  'center',\n  'with',\n  'a',\n  'simulation',\n  'system'],\n ['the',\n  'participants',\n  'have',\n  'the',\n  'opportunity',\n  'to',\n  'enhance',\n  'their',\n  'skills',\n  'knowledge',\n  'and',\n  'fluency',\n  'through',\n  'interactive',\n  'events',\n  'and',\n  'activities'],\n ['it',\n  'also',\n  'has',\n  'a',\n  'full',\n  'service',\n  'retail',\n  'supporting',\n  'this',\n  'core',\n  'philosophy',\n  'is',\n  'also',\n  'available'],\n ['it',\n  'was',\n  'founded',\n  'in',\n  'and',\n  'is',\n  'based',\n  'in',\n  'johnston',\n  'iowa'],\n ['clinicnote',\n  'is',\n  'an',\n  'electronic',\n  'medical',\n  'record',\n  'used',\n  'by',\n  'university',\n  'therapy',\n  'teaching',\n  'programs',\n  'and',\n  'private',\n  'practice',\n  'therapy',\n  'clinics'],\n ['men',\n  's',\n  'style',\n  'lab',\n  'is',\n  'an',\n  'online',\n  'concierge',\n  'subscription',\n  'clothing',\n  'helping',\n  'men',\n  'look',\n  'their',\n  'best',\n  'with',\n  'great',\n  'clothes',\n  'that',\n  'fit',\n  'both',\n  'life',\n  'and',\n  'style'],\n ['it',\n  'was',\n  'founded',\n  'in',\n  'and',\n  'is',\n  'headquartered',\n  'in',\n  'des',\n  'moines',\n  'iowa'],\n ['everstream',\n  'is',\n  'a',\n  'cleveland',\n  'based',\n  'network',\n  'service',\n  'provider',\n  'bringing',\n  'fiber',\n  'based',\n  'ethernet',\n  'internet',\n  'and',\n  'data',\n  'center',\n  'solutions',\n  'to',\n  'businesses',\n  'throughout',\n  'northeast',\n  'ohio'],\n ['we',\n  'focus',\n  'on',\n  'delivering',\n  'best',\n  'in',\n  'class',\n  'network',\n  'solutions',\n  'while',\n  'providing',\n  'an',\n  'unrivaled',\n  'mitment',\n  'to',\n  'customer',\n  'service']]"
     },
     "execution_count": 15,
     "metadata": {},
     "output_type": "execute_result"
    }
   ],
   "source": [
    "# after second tokenizer: sentences splits into sentences of words\n",
    "# in the format of [[word, word, .....], [word, word, ...], ....]\n",
    "sentences_of_words = []\n",
    "for line in cleaned_sentences:\n",
    "    # tokenizer\n",
    "    tokens = re.findall(r'\\b\\w+\\b', line)\n",
    "    if len(tokens) > 1:\n",
    "        sentences_of_words.append(tokens)\n",
    "sentences_of_words[0:100]"
   ],
   "metadata": {
    "collapsed": false,
    "pycharm": {
     "name": "#%%\n"
    }
   }
  },
  {
   "cell_type": "code",
   "execution_count": 16,
   "outputs": [
    {
     "data": {
      "text/plain": "[['crossroads',\n  'shooting',\n  'sports',\n  'is',\n  'a',\n  'full',\n  'service',\n  'facility',\n  'with',\n  'a',\n  'core',\n  'focus',\n  'on',\n  'safe',\n  'handling',\n  'sport',\n  'shooting',\n  'and',\n  'personal',\n  'protection'],\n ['their',\n  'key',\n  'features',\n  'include',\n  'a',\n  'full',\n  'service',\n  'indoor',\n  'shooting',\n  'range',\n  'and',\n  'training',\n  'center',\n  'with',\n  'a',\n  'simulation',\n  'system'],\n ['the',\n  'participants',\n  'have',\n  'the',\n  'opportunity',\n  'to',\n  'enhance',\n  'their',\n  'skills',\n  'knowledge',\n  'and',\n  'fluency',\n  'through',\n  'interactive',\n  'events',\n  'and',\n  'activities'],\n ['it',\n  'also',\n  'has',\n  'a',\n  'full',\n  'service',\n  'retail',\n  'supporting',\n  'this',\n  'core',\n  'philosophy',\n  'is',\n  'also',\n  'available'],\n ['it',\n  'was',\n  'founded',\n  'in',\n  'and',\n  'is',\n  'based',\n  'in',\n  'johnston',\n  'iowa'],\n ['clinicnote',\n  'is',\n  'an',\n  'electronic',\n  'medical',\n  'record',\n  'used',\n  'by',\n  'university',\n  'therapy',\n  'teaching',\n  'programs',\n  'and',\n  'private',\n  'practice',\n  'therapy',\n  'clinics'],\n ['men',\n  's',\n  'style',\n  'lab',\n  'is',\n  'an',\n  'online',\n  'concierge',\n  'subscription',\n  'clothing',\n  'helping',\n  'men',\n  'look',\n  'their',\n  'best',\n  'with',\n  'great',\n  'clothes',\n  'that',\n  'fit',\n  'both',\n  'life',\n  'and',\n  'style'],\n ['it',\n  'was',\n  'founded',\n  'in',\n  'and',\n  'is',\n  'headquartered',\n  'in',\n  'des',\n  'moines',\n  'iowa'],\n ['everstream',\n  'is',\n  'a',\n  'cleveland',\n  'based',\n  'network',\n  'service',\n  'provider',\n  'bringing',\n  'fiber',\n  'based',\n  'ethernet',\n  'internet',\n  'and',\n  'data',\n  'center',\n  'solutions',\n  'to',\n  'businesses',\n  'throughout',\n  'northeast',\n  'ohio'],\n ['we',\n  'focus',\n  'on',\n  'delivering',\n  'best',\n  'in',\n  'class',\n  'network',\n  'solutions',\n  'while',\n  'providing',\n  'an',\n  'unrivaled',\n  'mitment',\n  'to',\n  'customer',\n  'service'],\n ['with',\n  'over',\n  'miles',\n  'of',\n  'fiber',\n  'across',\n  'counties',\n  'and',\n  'prehensive',\n  'data',\n  'center',\n  'connectivity',\n  'at',\n  'gigabit',\n  'speed',\n  'we',\n  'provide',\n  'the',\n  'fastest',\n  'most',\n  'reliable',\n  'network',\n  'in',\n  'the',\n  'region'],\n ['our',\n  'network',\n  'operations',\n  'center',\n  'is',\n  'staffed',\n  'and',\n  'operated',\n  'by',\n  'certified',\n  'technical',\n  'staff',\n  'based',\n  'in',\n  'downtown',\n  'cleveland'],\n ['northern',\n  'ohio',\n  'medical',\n  'specialists',\n  'is',\n  'a',\n  'multi',\n  'specialty',\n  'physician',\n  'group'],\n ['noms',\n  'healthcare',\n  'was',\n  'formed',\n  'by',\n  'local',\n  'physicians',\n  'who',\n  'sought',\n  'to',\n  'establish',\n  'and',\n  'deliver',\n  'care',\n  'utilizing',\n  'a',\n  'patient',\n  'centric',\n  'model',\n  'focused',\n  'on',\n  'convenience',\n  'and',\n  'quality'],\n ['by',\n  'creating',\n  'one',\n  'multi',\n  'specialty',\n  'group',\n  'practice',\n  'patients',\n  'have',\n  'access',\n  'to',\n  'a',\n  'broad',\n  'range',\n  'of',\n  'physician',\n  'specialties',\n  'and',\n  'mid',\n  'level',\n  'providers',\n  'and',\n  'are',\n  'provided',\n  'with',\n  'one',\n  'consolidated',\n  'billing',\n  'statement',\n  'for',\n  'all',\n  'services'],\n ['a',\n  'full',\n  'service',\n  'curated',\n  'marketplace',\n  'where',\n  'parents',\n  'can',\n  'buy',\n  'sell',\n  'gently',\n  'loved',\n  'children',\n  's',\n  'clothing',\n  'by',\n  'the',\n  'lot'],\n ['oculii',\n  'is',\n  'creating',\n  'a',\n  'next',\n  'generation',\n  'ai',\n  'software',\n  'platform',\n  'for',\n  'radars',\n  'that',\n  's',\n  'exponentially',\n  'higher',\n  'resolution',\n  'longer',\n  'range',\n  'more',\n  'accurate',\n  'and',\n  'less',\n  'expensive',\n  'than',\n  'conventional',\n  'solutions',\n  'increasing',\n  'safety',\n  'and',\n  'reliability'],\n ['the',\n  'promise',\n  'of',\n  'autonomous',\n  'vehicles',\n  'depends',\n  'on',\n  'high',\n  'performance',\n  'all',\n  'weather',\n  'low',\n  'cost',\n  'and',\n  'scalable',\n  'perception',\n  'technology',\n  'and',\n  'oculii',\n  'is',\n  'bringing',\n  'it',\n  'to',\n  'the',\n  'world'],\n ['oculii',\n  's',\n  'ai',\n  'software',\n  'amplifies',\n  'the',\n  'resolution',\n  'of',\n  'any',\n  'radar',\n  'platform',\n  'enabling',\n  'high',\n  'performance',\n  'perception',\n  'for',\n  'the',\n  'next',\n  'generation',\n  'of',\n  'autonomous',\n  'systems'],\n ['traditional',\n  'phased',\n  'array',\n  'radars',\n  'have',\n  'been',\n  'used',\n  'for',\n  'decades',\n  'and',\n  'follow',\n  'a',\n  'strict',\n  'size',\n  'for',\n  'performance',\n  'tradeoff',\n  'the',\n  'larger',\n  'the',\n  'sensor',\n  'aperture',\n  'the',\n  'higher',\n  'the',\n  'angular',\n  'resolution'],\n ['oculii',\n  's',\n  'virtual',\n  'aperture',\n  'imaging',\n  'radar',\n  'technology',\n  'fundamentally',\n  'breaks',\n  'this',\n  'tradeoff',\n  'enabling',\n  'its',\n  'sensors',\n  'to',\n  'trade',\n  'increased',\n  'pute',\n  'processing',\n  'for',\n  'angular',\n  'resolution',\n  'enhancement',\n  'with',\n  'the',\n  'same',\n  'physical',\n  'aperture'],\n ['leveraging',\n  'this',\n  'technique',\n  'enables',\n  'oculii',\n  'sensors',\n  'to',\n  'extract',\n  'unprecedented',\n  'accuracy',\n  'range',\n  'and',\n  'd',\n  'positioning',\n  'information',\n  'from',\n  'modity',\n  'off',\n  'the',\n  'shelf',\n  'low',\n  'cost',\n  'radar',\n  'elements',\n  'bringing',\n  'high',\n  'resolution',\n  'radar',\n  'imaging',\n  'to',\n  'the',\n  'next',\n  'frontier'],\n ['oculii',\n  'is',\n  'backed',\n  'by',\n  'some',\n  'of',\n  'the',\n  'top',\n  'investors',\n  'and',\n  'corporations',\n  'from',\n  'silicon',\n  'valley',\n  'and',\n  'is',\n  'working',\n  'with',\n  'the',\n  'leaders',\n  'in',\n  'self',\n  'driving',\n  'vehicles',\n  'robotics',\n  'and',\n  'drones',\n  'helping',\n  'them',\n  'deliver',\n  'on',\n  'an',\n  'autonomous',\n  'future',\n  'with',\n  'an',\n  'advanced',\n  'robust',\n  'affordable',\n  'perception',\n  'platform'],\n ['trudog',\n  'is',\n  'a',\n  'small',\n  'family',\n  'owned',\n  'pet',\n  'food',\n  'pany',\n  'located',\n  'in',\n  'the',\n  'midwest'],\n ['a',\n  'few',\n  'years',\n  'ago',\n  'after',\n  'experiencing',\n  'some',\n  'serious',\n  'health',\n  'issues',\n  'i',\n  'began',\n  'getting',\n  'educated',\n  'on',\n  'nutrition'],\n ['soon',\n  'thereafter',\n  'our',\n  'family',\n  'began',\n  'moving',\n  'away',\n  'from',\n  'processed',\n  'foods',\n  'and',\n  'embracing',\n  'a',\n  'diet',\n  'that',\n  'included',\n  'more',\n  'natural',\n  'wholesome',\n  'foods'],\n ['the', 'benefits', 'to', 'our', 'health', 'were', 'beyond', 'remarkable'],\n ['we',\n  'felt',\n  'better',\n  'looked',\n  'better',\n  'and',\n  'had',\n  'vastly',\n  'more',\n  'reserves',\n  'of',\n  'energy'],\n ['proformex',\n  'is',\n  'the',\n  'leading',\n  'inforce',\n  'management',\n  'platform',\n  'offering',\n  'data',\n  'aggregation',\n  'analytics',\n  'and',\n  'portfolio',\n  'monitoring',\n  'for',\n  'life',\n  'insurance',\n  'and',\n  'annuities'],\n ['the',\n  'pany',\n  'was',\n  'founded',\n  'in',\n  'and',\n  'headquartered',\n  'in',\n  'cleveland',\n  'ohio',\n  'united',\n  'states'],\n ['island',\n  'radar',\n  'focuses',\n  'on',\n  'railroad',\n  'crossing',\n  'safety',\n  'by',\n  'employing',\n  'emerging',\n  'technologies'],\n ['the',\n  'pany',\n  'develops',\n  'applications',\n  'for',\n  'vehicle',\n  'warning',\n  'systems',\n  'at',\n  'railroad',\n  'crossings',\n  'blocked',\n  'or',\n  'obstructed',\n  'crossings',\n  'train',\n  'detection',\n  'at',\n  'diamond',\n  'crossover',\n  'interlockers',\n  'and',\n  'for',\n  'systems',\n  'at',\n  'railroad',\n  'quiet',\n  'zones',\n  'and',\n  'high',\n  'speed',\n  'rail',\n  'crossings'],\n ['island',\n  'radar',\n  'was',\n  'founded',\n  'by',\n  'tom',\n  'hilleary',\n  'in',\n  'and',\n  'is',\n  'now',\n  'located',\n  'in',\n  'springville',\n  'utah'],\n ['downrange',\n  'enterprises',\n  'was',\n  'started',\n  'in',\n  'by',\n  'dan',\n  'cox',\n  'however',\n  'the',\n  'basis',\n  'of',\n  'the',\n  'pany',\n  'started',\n  'well',\n  'before',\n  'that'],\n ['downrange',\n  'concentrates',\n  'on',\n  'small',\n  'business',\n  'development',\n  'and',\n  'growth',\n  'of',\n  'existing',\n  'small',\n  'businesses'],\n ['initially',\n  'the',\n  'pany',\n  'is',\n  'planning',\n  'on',\n  'acquiring',\n  'ownership',\n  'in',\n  'existing',\n  'small',\n  'businesses',\n  'and',\n  'growing',\n  'them',\n  'to',\n  'a',\n  'point',\n  'where',\n  'they',\n  'can',\n  'operate',\n  'in',\n  'a',\n  'self',\n  'sufficient',\n  'manner',\n  'which',\n  'at',\n  'that',\n  'time',\n  'downrange',\n  'will',\n  'proceed',\n  'in',\n  'acquisition',\n  'or',\n  'teaming',\n  'with',\n  'other',\n  'small',\n  'businesses',\n  'to',\n  'help',\n  'them',\n  'grow',\n  'as',\n  'well'],\n ['the',\n  'main',\n  'goal',\n  'of',\n  'downrange',\n  'is',\n  'to',\n  'work',\n  'with',\n  'others',\n  'to',\n  'help',\n  'them',\n  'achieve',\n  'their',\n  'dreams',\n  'of',\n  'successful',\n  'and',\n  'profitable',\n  'business',\n  'ownership'],\n ['zilliant', 'inc'],\n ['provides',\n  'price',\n  'optimization',\n  'and',\n  'price',\n  'management',\n  'software',\n  'for',\n  'manufacturing',\n  'distribution',\n  'high',\n  'tech',\n  'and',\n  'industrial',\n  'service',\n  'panies'],\n ['the',\n  'panyâ',\n  's',\n  'pricing',\n  'software',\n  'enables',\n  'manufacturers',\n  'and',\n  'distributors',\n  'to',\n  'adopt',\n  'an',\n  'approach',\n  'to',\n  'price',\n  'analysis',\n  'optimization',\n  'price',\n  'list',\n  'management',\n  'quoting',\n  'and',\n  'negotiation'],\n ['it',\n  'offers',\n  'zilliant',\n  'precision',\n  'pricing',\n  'suite',\n  'zpps',\n  'an',\n  'enterprise',\n  'software',\n  'that',\n  'bines',\n  'price',\n  'segmentation',\n  'and',\n  'price',\n  'optimization',\n  'science',\n  'with',\n  'analytics',\n  'and',\n  'process',\n  'automation',\n  'software',\n  'for',\n  'price',\n  'management',\n  'zpps',\n  'analytics',\n  'which',\n  'provides',\n  'segment',\n  'specific',\n  'metrics',\n  'and',\n  'kpis',\n  'to',\n  'deliver',\n  'a',\n  'view',\n  'of',\n  'pricing',\n  'performance',\n  'and',\n  'uncover',\n  'opportunities',\n  'to',\n  'improve',\n  'zpps',\n  'price',\n  'optimization',\n  'that',\n  'produces',\n  'price',\n  'and',\n  'deal',\n  'envelope',\n  'remendations',\n  'for',\n  'various',\n  'price',\n  'segment',\n  'and',\n  'zpps',\n  'price',\n  'list',\n  'manager',\n  'which',\n  'administers',\n  'price',\n  'lists',\n  'and',\n  'policies',\n  'as',\n  'well',\n  'as',\n  'other',\n  'price',\n  'instruments',\n  'such',\n  'as',\n  'discount',\n  'and',\n  'markup',\n  'schedules'],\n ['the',\n  'pany',\n  'also',\n  'provides',\n  'zpps',\n  'deal',\n  'manager',\n  'and',\n  'deal',\n  'manager',\n  'for',\n  'agreements',\n  'and',\n  'zpps',\n  'price',\n  'campaign',\n  'manager',\n  'that',\n  'provides',\n  'inline',\n  'analytics',\n  'and',\n  'kpis',\n  'for',\n  'scoring',\n  'deals',\n  'against',\n  'peer',\n  'group',\n  'benchmarks',\n  'and',\n  'enforces',\n  'corporate',\n  'price',\n  'policies',\n  'and',\n  'zpps',\n  'pricing',\n  'information',\n  'manager',\n  'which',\n  'manages',\n  'product',\n  'mix',\n  'and',\n  'selection',\n  'in',\n  'various',\n  'deals'],\n ['in', 'addition', 'zilliant', 'inc'],\n ['offers',\n  'deployment',\n  'strategy',\n  'and',\n  'planning',\n  'and',\n  'implementation',\n  'methodology',\n  'as',\n  'well',\n  'as',\n  'zilliant',\n  'education',\n  'services',\n  'for',\n  'business',\n  'and',\n  'technical',\n  'users'],\n ['the', 'pany', 'has', 'a', 'strategic', 'alliance', 'with', 'advanous'],\n ['zilliant', 'inc'],\n ['was',\n  'founded',\n  'in',\n  'and',\n  'is',\n  'headquartered',\n  'in',\n  'austin',\n  'texas'],\n ['getfittter',\n  'is',\n  'a',\n  'new',\n  'generation',\n  'of',\n  'mobile',\n  'and',\n  'web',\n  'app',\n  'that',\n  'connects',\n  'people',\n  'with',\n  'a',\n  'carefully',\n  'selected',\n  'group',\n  'of',\n  'world',\n  'renowned',\n  'health',\n  'and',\n  'fitness',\n  'coaches'],\n ['we',\n  'empower',\n  'people',\n  'to',\n  'live',\n  'each',\n  'and',\n  'every',\n  'day',\n  'at',\n  'their',\n  'very',\n  'best',\n  'and',\n  'provide',\n  'all',\n  'of',\n  'the',\n  'tools',\n  'support',\n  'and',\n  'motivation',\n  'to',\n  'help',\n  'them',\n  'achieve',\n  'their',\n  'goals',\n  'and',\n  'reach',\n  'optimal',\n  'levels',\n  'of',\n  'health',\n  'and',\n  'fitness'],\n ['we',\n  'create',\n  'a',\n  'new',\n  'revenue',\n  'source',\n  'channel',\n  'for',\n  'professional',\n  'health',\n  'coaches',\n  'by',\n  'connecting',\n  'them',\n  'with',\n  'a',\n  'global',\n  'audience'],\n ['getfittter',\n  'members',\n  'are',\n  'able',\n  'to',\n  'opt',\n  'for',\n  'a',\n  'digital',\n  'coaching',\n  'subscription',\n  'with',\n  'the',\n  'world',\n  's',\n  'greatest',\n  'coaches'],\n ['our',\n  'product',\n  'also',\n  'offers',\n  'a',\n  'marketplace',\n  'for',\n  'health',\n  'programs',\n  'designed',\n  'by',\n  'handpicked',\n  'health',\n  'coaches',\n  'fitness',\n  'trainers',\n  'nutritionists',\n  'physiotherapists',\n  'or',\n  'yoga',\n  'experts'],\n ['getfittter',\n  'is',\n  'the',\n  'result',\n  'of',\n  'over',\n  'years',\n  'of',\n  'market',\n  'discovery',\n  'validation',\n  'and',\n  'product',\n  'iteration'],\n ['it',\n  's',\n  'a',\n  'game',\n  'changer',\n  'in',\n  'the',\n  'digital',\n  'health',\n  'market'],\n ['flying',\n  'eyes',\n  'is',\n  'a',\n  'designer',\n  'and',\n  'manufacturer',\n  'of',\n  'sunglasses',\n  'used',\n  'with',\n  'aviation',\n  'style',\n  'headsets'],\n ['the',\n  'pany',\n  'was',\n  'founded',\n  'in',\n  'and',\n  'is',\n  'headquartered',\n  'in',\n  'buda',\n  'texas',\n  'united',\n  'states'],\n ['music',\n  'meets',\n  'video',\n  'mmv',\n  'is',\n  'an',\n  'interactive',\n  'promotional',\n  'platform',\n  'that',\n  'unites',\n  'emerging',\n  'music',\n  'artists',\n  'with',\n  'new',\n  'fans',\n  'around',\n  'the',\n  'world'],\n ['their',\n  'members',\n  'pete',\n  'in',\n  'cover',\n  'petitions',\n  'for',\n  'songs',\n  'from',\n  'top',\n  'recording',\n  'artists',\n  'as',\n  'well',\n  'as',\n  'up',\n  'and',\n  'ing',\n  'independent',\n  'artists'],\n ['members',\n  'have',\n  'the',\n  'opportunity',\n  'to',\n  'create',\n  'their',\n  'own',\n  'unique',\n  'profiles',\n  'and',\n  'engage',\n  'in',\n  'a',\n  'robust',\n  'environment',\n  'that',\n  'encourages',\n  'social',\n  'interaction'],\n ['mmv',\n  'is',\n  'heavily',\n  'focused',\n  'on',\n  'cover',\n  'artists',\n  'but',\n  'it',\n  'is',\n  'also',\n  'a',\n  'marketing',\n  'space',\n  'for',\n  'record',\n  'labels',\n  'independent',\n  'and',\n  'established',\n  'artists',\n  'to',\n  'attract',\n  'new',\n  'followers',\n  'and',\n  'engage',\n  'with',\n  'their',\n  'existing',\n  'fan',\n  'base',\n  'in',\n  'a',\n  'unique',\n  'and',\n  'creative',\n  'way'],\n ['not',\n  'only',\n  'do',\n  'they',\n  'have',\n  'an',\n  'incredible',\n  'platform',\n  'their',\n  'partnerships',\n  'with',\n  'music',\n  'publishers',\n  'have',\n  'provided',\n  'them',\n  'access',\n  'to',\n  'millions',\n  'of',\n  'top',\n  'songs',\n  'from',\n  'the',\n  'last',\n  'years'],\n ['they',\n  've',\n  'hurdled',\n  'a',\n  'highly',\n  'restrictive',\n  'obstacle',\n  'at',\n  'an',\n  'early',\n  'stage',\n  'and',\n  'are',\n  'able',\n  'to',\n  'scale',\n  'quickly',\n  'and',\n  'efficiently',\n  'without',\n  'licensing',\n  'restraints'],\n ['eti',\n  'international',\n  'inc',\n  'also',\n  'known',\n  'as',\n  'evolutionary',\n  'technologies',\n  'international',\n  'inc',\n  'provides',\n  'enterprise',\n  'data',\n  'integration',\n  'solutions'],\n ['its',\n  'products',\n  'include',\n  'eti',\n  'solution',\n  'a',\n  'data',\n  'integration',\n  'platform',\n  'that',\n  'enables',\n  'data',\n  'integration',\n  'from',\n  'java',\n  'xml',\n  'to',\n  'legacy',\n  'cobol',\n  'proprietary',\n  'or',\n  'multibyte',\n  'data',\n  'and',\n  'built',\n  'to',\n  'order',\n  'integration',\n  'that',\n  'provides',\n  'built',\n  'to',\n  'order',\n  'connectors',\n  'which',\n  'integrate',\n  'mainframe',\n  'legacy',\n  'and',\n  'proprietary',\n  'applications',\n  'with',\n  'current',\n  'business',\n  'intelligence',\n  'data',\n  'warehousing',\n  'and',\n  'soa',\n  'based',\n  'infrastructures'],\n ['the',\n  'pany',\n  'also',\n  'provides',\n  'data',\n  'quality',\n  'solutions',\n  'such',\n  'as',\n  'data',\n  'profiler',\n  'that',\n  'includes',\n  'counts',\n  'advanced',\n  'statistics',\n  'pattern',\n  'recognition',\n  'inconsistency',\n  'identification',\n  'anomalies',\n  'possible',\n  'key',\n  'values',\n  'and',\n  'data',\n  'relationships',\n  'for',\n  'analysis',\n  'to',\n  'discover',\n  'the',\n  'content',\n  'structure',\n  'and',\n  'quality',\n  'of',\n  'data',\n  'sources',\n  'before',\n  'the',\n  'start',\n  'of',\n  'information',\n  'technology',\n  'project',\n  'data',\n  'monitor',\n  'that',\n  'helps',\n  'to',\n  'remove',\n  'the',\n  'hidden',\n  'business',\n  'costs',\n  'attributable',\n  'to',\n  'bad',\n  'data',\n  'by',\n  'examining',\n  'the',\n  'data',\n  'quality',\n  'of',\n  'vital',\n  'business',\n  'processes',\n  'applications',\n  'and',\n  'information',\n  'technology',\n  'projects',\n  'and',\n  'data',\n  'cleanser',\n  'that',\n  'enables',\n  'to',\n  'design',\n  'manage',\n  'and',\n  'deploy',\n  'cleansing',\n  'processes',\n  'which',\n  'run',\n  'in',\n  'line',\n  'with',\n  'production',\n  'systems',\n  'or',\n  'offline',\n  'for',\n  'batch',\n  'based',\n  'projects'],\n ['in',\n  'addition',\n  'it',\n  'offers',\n  'pre',\n  'built',\n  'high',\n  'performance',\n  'connectors',\n  'to',\n  'load',\n  'teradata',\n  'oracle',\n  'db2',\n  'and',\n  'microsoft',\n  'sql',\n  'server',\n  'data',\n  'sources'],\n ['further',\n  'the',\n  'pany',\n  'provides',\n  'implementation',\n  'and',\n  'consulting',\n  'education',\n  'and',\n  'training',\n  'and',\n  'customer',\n  'support',\n  'services'],\n ['it',\n  'offers',\n  'solutions',\n  'for',\n  'synchronization',\n  'migration',\n  'data',\n  'quality',\n  'and',\n  'soa',\n  'needs',\n  'of',\n  'panies',\n  'and',\n  'government',\n  'information',\n  'technology',\n  'organizations'],\n ['the',\n  'pany',\n  'was',\n  'founded',\n  'in',\n  'and',\n  'is',\n  'headquartered',\n  'in',\n  'austin',\n  'texas'],\n ['as', 'of', 'may', 'eti', 'international', 'inc'],\n ['operates', 'as', 'a', 'subsidiary', 'of', 'versata', 'inc'],\n ['stride', 'funding', 'almapact', 'inc'],\n ['is',\n  'a',\n  'mission',\n  'driven',\n  'pany',\n  'focused',\n  'on',\n  'enabling',\n  'debt',\n  'free',\n  'lives',\n  'for',\n  'students',\n  'by',\n  'supplementing',\n  'student',\n  'loans',\n  'with',\n  'flexible',\n  'ine',\n  'sharing',\n  'agreements'],\n ['unlike',\n  'student',\n  'loans',\n  'that',\n  'lock',\n  'students',\n  'into',\n  'a',\n  'single',\n  'rigid',\n  'payment',\n  'stride',\n  's',\n  'payments',\n  'rise',\n  'and',\n  'fall',\n  'with',\n  'a',\n  'student',\n  's',\n  'ine',\n  'so',\n  'that',\n  'payments',\n  'are',\n  'always',\n  'affordable'],\n ['the',\n  'pany',\n  'has',\n  'been',\n  'recognized',\n  'as',\n  'a',\n  'visionary',\n  'leader',\n  'by',\n  'fintech',\n  'analysts',\n  'for',\n  'its',\n  'efforts',\n  'in',\n  'ine',\n  'protection',\n  'and',\n  'career',\n  'support'],\n ['stride',\n  'was',\n  'created',\n  'by',\n  'students',\n  'for',\n  'students',\n  'aiming',\n  'to',\n  'change',\n  'student',\n  'lives',\n  'for',\n  'the',\n  'better'],\n ['the',\n  'pany',\n  'has',\n  'been',\n  'recognized',\n  'by',\n  'harvard',\n  'and',\n  'mit',\n  'as',\n  'a',\n  'top',\n  'new',\n  'venture'],\n ['stride',\n  'has',\n  'received',\n  'venture',\n  'investments',\n  'from',\n  'gsv',\n  'accelerate',\n  'slow',\n  'ventures',\n  'sinai',\n  'ventures',\n  'and',\n  'pear',\n  'vc',\n  'and',\n  'its',\n  'strategic',\n  'investors',\n  'include',\n  'strada',\n  'education'],\n ['its',\n  'advisors',\n  'include',\n  'serial',\n  'entrepreneurs',\n  'doug',\n  'levin',\n  'and',\n  'tina',\n  'sharkey'],\n ['patchr',\n  'are',\n  'the',\n  'empowering',\n  'makers',\n  'doers',\n  'innovators',\n  'and',\n  'engineers',\n  'with',\n  'software',\n  'to',\n  'design',\n  'printed',\n  'circuit',\n  'boards',\n  'in',\n  'minutes',\n  'through',\n  'an',\n  'easy',\n  'to',\n  'use',\n  'circuit',\n  'design',\n  'tool'],\n ['peerless',\n  'is',\n  'a',\n  'global',\n  'provider',\n  'of',\n  'engineered',\n  'equipment',\n  'for',\n  'the',\n  'abatement',\n  'of',\n  'air',\n  'pollution',\n  'the',\n  'removal',\n  'of',\n  'contaminants',\n  'from',\n  'gases',\n  'and',\n  'liquids',\n  'industrial',\n  'noise',\n  'control',\n  'and',\n  'heat',\n  'transfer',\n  'through',\n  'its',\n  'two',\n  'business',\n  'segments',\n  'environmental',\n  'systems',\n  'and',\n  'process',\n  'products'],\n ['in',\n  'our',\n  'environmental',\n  'systems',\n  'segment',\n  'we',\n  'design',\n  'engineer',\n  'manufacture',\n  'and',\n  'sell',\n  'highly',\n  'specialized',\n  'environmental',\n  'control',\n  'systems',\n  'which',\n  'are',\n  'used',\n  'for',\n  'air',\n  'pollution',\n  'abatement'],\n ['in',\n  'our',\n  'process',\n  'products',\n  'segment',\n  'we',\n  'design',\n  'engineer',\n  'manufacture',\n  'and',\n  'sell',\n  'specialized',\n  'products',\n  'known',\n  'as',\n  'separators',\n  'or',\n  'filters',\n  'silencers',\n  'pulsation',\n  'dampeners',\n  'and',\n  'heat',\n  'exchangers'],\n ['separators',\n  'are',\n  'used',\n  'in',\n  'the',\n  'cleaning',\n  'of',\n  'gases',\n  'or',\n  'liquids',\n  'in',\n  'piping',\n  'systems',\n  'the',\n  'removal',\n  'of',\n  'solid',\n  'or',\n  'liquid',\n  'contaminants',\n  'from',\n  'bustion',\n  'intake',\n  'air',\n  'from',\n  'gas',\n  'turbines',\n  'or',\n  'diesel',\n  'engines',\n  'and',\n  'the',\n  'removal',\n  'of',\n  'water',\n  'from',\n  'saturated',\n  'steam',\n  'at',\n  'nuclear',\n  'power',\n  'plants'],\n ['silencers',\n  'and',\n  'pulsation',\n  'dampeners',\n  'reduce',\n  'noise',\n  'and',\n  'de',\n  'couple',\n  'the',\n  'piping',\n  'system',\n  'from',\n  'the',\n  'pulsation',\n  'source'],\n ['heat',\n  'exchangers',\n  'are',\n  'designed',\n  'to',\n  'address',\n  'the',\n  'thermal',\n  'exchange',\n  'conditions',\n  'for',\n  'a',\n  'wide',\n  'range',\n  'of',\n  'process',\n  'applications',\n  'and',\n  'fluid',\n  'properties'],\n ['litlingo',\n  'helps',\n  'organizations',\n  'to',\n  'arrive',\n  'at',\n  'the',\n  'future',\n  'faster',\n  'u200b',\n  'by',\n  'minimizing',\n  'risks',\n  'associated',\n  'with',\n  'electronic',\n  'munications'],\n ['by',\n  'providing',\n  'ai',\n  'powered',\n  'monitoring',\n  'prevention',\n  'and',\n  'training',\n  'solutions',\n  'in',\n  'real',\n  'time',\n  'across',\n  'the',\n  'industry',\n  'leading',\n  'munication',\n  'channels',\n  'litlingo',\n  'allows',\n  'customers',\n  'to',\n  'target',\n  'known',\n  'risks',\n  'identify',\n  'blind',\n  'spots',\n  'and',\n  'maximize',\n  'the',\n  'productivity',\n  'of',\n  'their',\n  'workforce'],\n ['with',\n  'algorithms',\n  'trained',\n  'on',\n  'hundreds',\n  'of',\n  'millions',\n  'of',\n  'data',\n  'points',\n  'litlingo',\n  'provides',\n  'advanced',\n  'configurability',\n  'and',\n  'targeting',\n  'so',\n  'you',\n  'can',\n  'monitor',\n  'detect',\n  'and',\n  'prevent',\n  'unforced',\n  'errors',\n  'across',\n  'email',\n  'instant',\n  'messaging',\n  'social',\n  'media',\n  'websites',\n  'and',\n  'customer',\n  'service',\n  'portals'],\n ['with',\n  'litlingo',\n  'customers',\n  'can',\n  'stave',\n  'off',\n  'pliance',\n  'and',\n  'litigation',\n  'risk',\n  'by',\n  'preventing',\n  'the',\n  'creation',\n  'of',\n  'discoverable',\n  'material',\n  'optimizing',\n  'spend',\n  'on',\n  'employee',\n  'training',\n  'and',\n  'responding',\n  'to',\n  'customer',\n  'issues',\n  'with',\n  'greater',\n  'speed',\n  'and',\n  'accuracy'],\n ['with',\n  'litlingo',\n  'customer',\n  'service',\n  'agents',\n  'can',\n  'avoid',\n  'mistakes',\n  'employees',\n  'can',\n  'thrive',\n  'without',\n  'eroding',\n  'culture',\n  'recruiters',\n  'and',\n  'interviewers',\n  'can',\n  'ensure',\n  'legal',\n  'pliance',\n  'the',\n  'legal',\n  'team',\n  'can',\n  'sleep',\n  'soundly',\n  'every',\n  'night',\n  'and',\n  'the',\n  'leadership',\n  'team',\n  'can',\n  'be',\n  'confident',\n  'that',\n  'the',\n  'operation',\n  'is',\n  'increasing',\n  'productively',\n  'while',\n  'saving',\n  'money'],\n ['founded',\n  'and',\n  'staffed',\n  'by',\n  'industry',\n  'veterans',\n  'with',\n  'experience',\n  'in',\n  'ride',\n  'sharing',\n  'micro',\n  'mobility',\n  'legal',\n  'technology',\n  'autonomous',\n  'vehicles',\n  'and',\n  'machine',\n  'learning',\n  'litlingo',\n  'is',\n  'headquartered',\n  'in',\n  'austin',\n  'texas'],\n ['texas',\n  'halo',\n  'fund',\n  'is',\n  'an',\n  'investment',\n  'pany',\n  'that',\n  'specializes',\n  'in',\n  'investing',\n  'in',\n  'early',\n  'stage',\n  'businesses',\n  'with',\n  'promising',\n  'growth',\n  'prospects',\n  'and',\n  'exceptional',\n  'management',\n  'teams'],\n ['its',\n  'investment',\n  'approach',\n  'identifies',\n  'pelling',\n  'businesses',\n  'from',\n  'multiple',\n  'sources',\n  'and',\n  'without',\n  'regard',\n  'to',\n  'the',\n  'industry',\n  'or',\n  'geographic',\n  'location'],\n ['quite',\n  'simply',\n  'it',\n  'seeks',\n  'the',\n  'best',\n  'opportunities',\n  'locally',\n  'regionally',\n  'and',\n  'nationally',\n  'in',\n  'order',\n  'to',\n  'generate',\n  'the',\n  'highest',\n  'returns',\n  'for',\n  'the',\n  'investors',\n  'with',\n  'the',\n  'lowest',\n  'possible',\n  'risk'],\n ['the',\n  'firm',\n  'was',\n  'founded',\n  'in',\n  'and',\n  'is',\n  'headquartered',\n  'in',\n  'houston',\n  'texas'],\n ['hormones',\n  'me',\n  'is',\n  'your',\n  'one',\n  'stop',\n  'source',\n  'for',\n  'all',\n  'current',\n  'information',\n  'pertinent',\n  'to',\n  'hormone',\n  'replacement',\n  'therapy',\n  'hrt'],\n ['our',\n  'online',\n  'platform',\n  'provides',\n  'you',\n  'with',\n  'a',\n  'wide',\n  'range',\n  'of',\n  'topics',\n  'from',\n  'popular',\n  'published',\n  'scientific',\n  'articles',\n  'munity',\n  'forums',\n  'for',\n  'discussion',\n  'to',\n  'our',\n  'proprietary',\n  'cloud',\n  'based',\n  'algorithm',\n  'that',\n  'helps',\n  'both',\n  'providers',\n  'and',\n  'patients',\n  'choose',\n  'a',\n  'personalized',\n  'hrt',\n  'treatment',\n  'plan'],\n ['hormones',\n  'me',\n  'provides',\n  'an',\n  'evidence',\n  'and',\n  'practice',\n  'based',\n  'approach',\n  'to',\n  'hrt'],\n ['individuals',\n  'are',\n  'provided',\n  'with',\n  'a',\n  'pharmacist',\n  's',\n  'remendation',\n  'to',\n  'the',\n  'best',\n  'hrt',\n  'options',\n  'at',\n  'their',\n  'fingertips']]"
     },
     "execution_count": 16,
     "metadata": {},
     "output_type": "execute_result"
    }
   ],
   "source": [],
   "metadata": {
    "collapsed": false,
    "pycharm": {
     "name": "#%%\n"
    }
   }
  },
  {
   "cell_type": "code",
   "execution_count": 17,
   "outputs": [
    {
     "name": "stdout",
     "output_type": "stream",
     "text": [
      "[['crossroads', 'shooting', 'sports', 'is', 'a', 'full', 'service', 'facility', 'with', 'a', 'core', 'focus', 'on', 'safe', 'handling', 'sport', 'shooting', 'and', 'personal', 'protection'], ['their', 'key', 'features', 'include', 'a', 'full', 'service', 'indoor', 'shooting', 'range', 'and', 'training', 'center', 'with', 'a', 'simulation', 'system'], ['the', 'participants', 'have', 'the', 'opportunity', 'to', 'enhance', 'their', 'skills', 'knowledge', 'and', 'fluency', 'through', 'interactive', 'events', 'and', 'activities'], ['it', 'also', 'has', 'a', 'full', 'service', 'retail', 'supporting', 'this', 'core', 'philosophy', 'is', 'also', 'available'], ['it', 'was', 'founded', 'in', 'and', 'is', 'based', 'in', 'johnston', 'iowa'], ['clinicnote', 'is', 'an', 'electronic', 'medical', 'record', 'used', 'by', 'university', 'therapy', 'teaching', 'programs', 'and', 'private', 'practice', 'therapy', 'clinics'], ['men', 's', 'style', 'lab', 'is', 'an', 'online', 'concierge', 'subscription', 'clothing', 'helping', 'men', 'look', 'their', 'best', 'with', 'great', 'clothes', 'that', 'fit', 'both', 'life', 'and', 'style'], ['it', 'was', 'founded', 'in', 'and', 'is', 'headquartered', 'in', 'des', 'moines', 'iowa'], ['everstream', 'is', 'a', 'cleveland', 'based', 'network', 'service', 'provider', 'bringing', 'fiber', 'based', 'ethernet', 'internet', 'and', 'data', 'center', 'solutions', 'to', 'businesses', 'throughout', 'northeast', 'ohio'], ['we', 'focus', 'on', 'delivering', 'best', 'in', 'class', 'network', 'solutions', 'while', 'providing', 'an', 'unrivaled', 'mitment', 'to', 'customer', 'service'], ['with', 'over', 'miles', 'of', 'fiber', 'across', 'counties', 'and', 'prehensive', 'data', 'center', 'connectivity', 'at', 'gigabit', 'speed', 'we', 'provide', 'the', 'fastest', 'most', 'reliable', 'network', 'in', 'the', 'region'], ['our', 'network', 'operations', 'center', 'is', 'staffed', 'and', 'operated', 'by', 'certified', 'technical', 'staff', 'based', 'in', 'downtown', 'cleveland'], ['northern', 'ohio', 'medical', 'specialists', 'is', 'a', 'multi', 'specialty', 'physician', 'group'], ['noms', 'healthcare', 'was', 'formed', 'by', 'local', 'physicians', 'who', 'sought', 'to', 'establish', 'and', 'deliver', 'care', 'utilizing', 'a', 'patient', 'centric', 'model', 'focused', 'on', 'convenience', 'and', 'quality'], ['by', 'creating', 'one', 'multi', 'specialty', 'group', 'practice', 'patients', 'have', 'access', 'to', 'a', 'broad', 'range', 'of', 'physician', 'specialties', 'and', 'mid', 'level', 'providers', 'and', 'are', 'provided', 'with', 'one', 'consolidated', 'billing', 'statement', 'for', 'all', 'services'], ['a', 'full', 'service', 'curated', 'marketplace', 'where', 'parents', 'can', 'buy', 'sell', 'gently', 'loved', 'children', 's', 'clothing', 'by', 'the', 'lot'], ['oculii', 'is', 'creating', 'a', 'next', 'generation', 'ai', 'software', 'platform', 'for', 'radars', 'that', 's', 'exponentially', 'higher', 'resolution', 'longer', 'range', 'more', 'accurate', 'and', 'less', 'expensive', 'than', 'conventional', 'solutions', 'increasing', 'safety', 'and', 'reliability'], ['the', 'promise', 'of', 'autonomous', 'vehicles', 'depends', 'on', 'high', 'performance', 'all', 'weather', 'low', 'cost', 'and', 'scalable', 'perception', 'technology', 'and', 'oculii', 'is', 'bringing', 'it', 'to', 'the', 'world'], ['oculii', 's', 'ai', 'software', 'amplifies', 'the', 'resolution', 'of', 'any', 'radar', 'platform', 'enabling', 'high', 'performance', 'perception', 'for', 'the', 'next', 'generation', 'of', 'autonomous', 'systems'], ['traditional', 'phased', 'array', 'radars', 'have', 'been', 'used', 'for', 'decades', 'and', 'follow', 'a', 'strict', 'size', 'for', 'performance', 'tradeoff', 'the', 'larger', 'the', 'sensor', 'aperture', 'the', 'higher', 'the', 'angular', 'resolution'], ['oculii', 's', 'virtual', 'aperture', 'imaging', 'radar', 'technology', 'fundamentally', 'breaks', 'this', 'tradeoff', 'enabling', 'its', 'sensors', 'to', 'trade', 'increased', 'pute', 'processing', 'for', 'angular', 'resolution', 'enhancement', 'with', 'the', 'same', 'physical', 'aperture'], ['leveraging', 'this', 'technique', 'enables', 'oculii', 'sensors', 'to', 'extract', 'unprecedented', 'accuracy', 'range', 'and', 'd', 'positioning', 'information', 'from', 'modity', 'off', 'the', 'shelf', 'low', 'cost', 'radar', 'elements', 'bringing', 'high', 'resolution', 'radar', 'imaging', 'to', 'the', 'next', 'frontier'], ['oculii', 'is', 'backed', 'by', 'some', 'of', 'the', 'top', 'investors', 'and', 'corporations', 'from', 'silicon', 'valley', 'and', 'is', 'working', 'with', 'the', 'leaders', 'in', 'self', 'driving', 'vehicles', 'robotics', 'and', 'drones', 'helping', 'them', 'deliver', 'on', 'an', 'autonomous', 'future', 'with', 'an', 'advanced', 'robust', 'affordable', 'perception', 'platform'], ['trudog', 'is', 'a', 'small', 'family', 'owned', 'pet', 'food', 'pany', 'located', 'in', 'the', 'midwest'], ['a', 'few', 'years', 'ago', 'after', 'experiencing', 'some', 'serious', 'health', 'issues', 'i', 'began', 'getting', 'educated', 'on', 'nutrition'], ['soon', 'thereafter', 'our', 'family', 'began', 'moving', 'away', 'from', 'processed', 'foods', 'and', 'embracing', 'a', 'diet', 'that', 'included', 'more', 'natural', 'wholesome', 'foods'], ['the', 'benefits', 'to', 'our', 'health', 'were', 'beyond', 'remarkable'], ['we', 'felt', 'better', 'looked', 'better', 'and', 'had', 'vastly', 'more', 'reserves', 'of', 'energy'], ['proformex', 'is', 'the', 'leading', 'inforce', 'management', 'platform', 'offering', 'data', 'aggregation', 'analytics', 'and', 'portfolio', 'monitoring', 'for', 'life', 'insurance', 'and', 'annuities'], ['the', 'pany', 'was', 'founded', 'in', 'and', 'headquartered', 'in', 'cleveland', 'ohio', 'united', 'states'], ['island', 'radar', 'focuses', 'on', 'railroad', 'crossing', 'safety', 'by', 'employing', 'emerging', 'technologies'], ['the', 'pany', 'develops', 'applications', 'for', 'vehicle', 'warning', 'systems', 'at', 'railroad', 'crossings', 'blocked', 'or', 'obstructed', 'crossings', 'train', 'detection', 'at', 'diamond', 'crossover', 'interlockers', 'and', 'for', 'systems', 'at', 'railroad', 'quiet', 'zones', 'and', 'high', 'speed', 'rail', 'crossings'], ['island', 'radar', 'was', 'founded', 'by', 'tom', 'hilleary', 'in', 'and', 'is', 'now', 'located', 'in', 'springville', 'utah'], ['downrange', 'enterprises', 'was', 'started', 'in', 'by', 'dan', 'cox', 'however', 'the', 'basis', 'of', 'the', 'pany', 'started', 'well', 'before', 'that'], ['downrange', 'concentrates', 'on', 'small', 'business', 'development', 'and', 'growth', 'of', 'existing', 'small', 'businesses'], ['initially', 'the', 'pany', 'is', 'planning', 'on', 'acquiring', 'ownership', 'in', 'existing', 'small', 'businesses', 'and', 'growing', 'them', 'to', 'a', 'point', 'where', 'they', 'can', 'operate', 'in', 'a', 'self', 'sufficient', 'manner', 'which', 'at', 'that', 'time', 'downrange', 'will', 'proceed', 'in', 'acquisition', 'or', 'teaming', 'with', 'other', 'small', 'businesses', 'to', 'help', 'them', 'grow', 'as', 'well'], ['the', 'main', 'goal', 'of', 'downrange', 'is', 'to', 'work', 'with', 'others', 'to', 'help', 'them', 'achieve', 'their', 'dreams', 'of', 'successful', 'and', 'profitable', 'business', 'ownership'], ['zilliant', 'inc'], ['provides', 'price', 'optimization', 'and', 'price', 'management', 'software', 'for', 'manufacturing', 'distribution', 'high', 'tech', 'and', 'industrial', 'service', 'panies'], ['the', 'panyâ', 's', 'pricing', 'software', 'enables', 'manufacturers', 'and', 'distributors', 'to', 'adopt', 'an', 'approach', 'to', 'price', 'analysis', 'optimization', 'price', 'list', 'management', 'quoting', 'and', 'negotiation'], ['it', 'offers', 'zilliant', 'precision', 'pricing', 'suite', 'zpps', 'an', 'enterprise', 'software', 'that', 'bines', 'price', 'segmentation', 'and', 'price', 'optimization', 'science', 'with', 'analytics', 'and', 'process', 'automation', 'software', 'for', 'price', 'management', 'zpps', 'analytics', 'which', 'provides', 'segment', 'specific', 'metrics', 'and', 'kpis', 'to', 'deliver', 'a', 'view', 'of', 'pricing', 'performance', 'and', 'uncover', 'opportunities', 'to', 'improve', 'zpps', 'price', 'optimization', 'that', 'produces', 'price', 'and', 'deal', 'envelope', 'remendations', 'for', 'various', 'price', 'segment', 'and', 'zpps', 'price', 'list', 'manager', 'which', 'administers', 'price', 'lists', 'and', 'policies', 'as', 'well', 'as', 'other', 'price', 'instruments', 'such', 'as', 'discount', 'and', 'markup', 'schedules'], ['the', 'pany', 'also', 'provides', 'zpps', 'deal', 'manager', 'and', 'deal', 'manager', 'for', 'agreements', 'and', 'zpps', 'price', 'campaign', 'manager', 'that', 'provides', 'inline', 'analytics', 'and', 'kpis', 'for', 'scoring', 'deals', 'against', 'peer', 'group', 'benchmarks', 'and', 'enforces', 'corporate', 'price', 'policies', 'and', 'zpps', 'pricing', 'information', 'manager', 'which', 'manages', 'product', 'mix', 'and', 'selection', 'in', 'various', 'deals'], ['in', 'addition', 'zilliant', 'inc'], ['offers', 'deployment', 'strategy', 'and', 'planning', 'and', 'implementation', 'methodology', 'as', 'well', 'as', 'zilliant', 'education', 'services', 'for', 'business', 'and', 'technical', 'users'], ['the', 'pany', 'has', 'a', 'strategic', 'alliance', 'with', 'advanous'], ['zilliant', 'inc'], ['was', 'founded', 'in', 'and', 'is', 'headquartered', 'in', 'austin', 'texas'], ['getfittter', 'is', 'a', 'new', 'generation', 'of', 'mobile', 'and', 'web', 'app', 'that', 'connects', 'people', 'with', 'a', 'carefully', 'selected', 'group', 'of', 'world', 'renowned', 'health', 'and', 'fitness', 'coaches'], ['we', 'empower', 'people', 'to', 'live', 'each', 'and', 'every', 'day', 'at', 'their', 'very', 'best', 'and', 'provide', 'all', 'of', 'the', 'tools', 'support', 'and', 'motivation', 'to', 'help', 'them', 'achieve', 'their', 'goals', 'and', 'reach', 'optimal', 'levels', 'of', 'health', 'and', 'fitness'], ['we', 'create', 'a', 'new', 'revenue', 'source', 'channel', 'for', 'professional', 'health', 'coaches', 'by', 'connecting', 'them', 'with', 'a', 'global', 'audience'], ['getfittter', 'members', 'are', 'able', 'to', 'opt', 'for', 'a', 'digital', 'coaching', 'subscription', 'with', 'the', 'world', 's', 'greatest', 'coaches'], ['our', 'product', 'also', 'offers', 'a', 'marketplace', 'for', 'health', 'programs', 'designed', 'by', 'handpicked', 'health', 'coaches', 'fitness', 'trainers', 'nutritionists', 'physiotherapists', 'or', 'yoga', 'experts'], ['getfittter', 'is', 'the', 'result', 'of', 'over', 'years', 'of', 'market', 'discovery', 'validation', 'and', 'product', 'iteration'], ['it', 's', 'a', 'game', 'changer', 'in', 'the', 'digital', 'health', 'market'], ['flying', 'eyes', 'is', 'a', 'designer', 'and', 'manufacturer', 'of', 'sunglasses', 'used', 'with', 'aviation', 'style', 'headsets'], ['the', 'pany', 'was', 'founded', 'in', 'and', 'is', 'headquartered', 'in', 'buda', 'texas', 'united', 'states'], ['music', 'meets', 'video', 'mmv', 'is', 'an', 'interactive', 'promotional', 'platform', 'that', 'unites', 'emerging', 'music', 'artists', 'with', 'new', 'fans', 'around', 'the', 'world'], ['their', 'members', 'pete', 'in', 'cover', 'petitions', 'for', 'songs', 'from', 'top', 'recording', 'artists', 'as', 'well', 'as', 'up', 'and', 'ing', 'independent', 'artists'], ['members', 'have', 'the', 'opportunity', 'to', 'create', 'their', 'own', 'unique', 'profiles', 'and', 'engage', 'in', 'a', 'robust', 'environment', 'that', 'encourages', 'social', 'interaction'], ['mmv', 'is', 'heavily', 'focused', 'on', 'cover', 'artists', 'but', 'it', 'is', 'also', 'a', 'marketing', 'space', 'for', 'record', 'labels', 'independent', 'and', 'established', 'artists', 'to', 'attract', 'new', 'followers', 'and', 'engage', 'with', 'their', 'existing', 'fan', 'base', 'in', 'a', 'unique', 'and', 'creative', 'way'], ['not', 'only', 'do', 'they', 'have', 'an', 'incredible', 'platform', 'their', 'partnerships', 'with', 'music', 'publishers', 'have', 'provided', 'them', 'access', 'to', 'millions', 'of', 'top', 'songs', 'from', 'the', 'last', 'years'], ['they', 've', 'hurdled', 'a', 'highly', 'restrictive', 'obstacle', 'at', 'an', 'early', 'stage', 'and', 'are', 'able', 'to', 'scale', 'quickly', 'and', 'efficiently', 'without', 'licensing', 'restraints'], ['eti', 'international', 'inc', 'also', 'known', 'as', 'evolutionary', 'technologies', 'international', 'inc', 'provides', 'enterprise', 'data', 'integration', 'solutions'], ['its', 'products', 'include', 'eti', 'solution', 'a', 'data', 'integration', 'platform', 'that', 'enables', 'data', 'integration', 'from', 'java', 'xml', 'to', 'legacy', 'cobol', 'proprietary', 'or', 'multibyte', 'data', 'and', 'built', 'to', 'order', 'integration', 'that', 'provides', 'built', 'to', 'order', 'connectors', 'which', 'integrate', 'mainframe', 'legacy', 'and', 'proprietary', 'applications', 'with', 'current', 'business', 'intelligence', 'data', 'warehousing', 'and', 'soa', 'based', 'infrastructures'], ['the', 'pany', 'also', 'provides', 'data', 'quality', 'solutions', 'such', 'as', 'data', 'profiler', 'that', 'includes', 'counts', 'advanced', 'statistics', 'pattern', 'recognition', 'inconsistency', 'identification', 'anomalies', 'possible', 'key', 'values', 'and', 'data', 'relationships', 'for', 'analysis', 'to', 'discover', 'the', 'content', 'structure', 'and', 'quality', 'of', 'data', 'sources', 'before', 'the', 'start', 'of', 'information', 'technology', 'project', 'data', 'monitor', 'that', 'helps', 'to', 'remove', 'the', 'hidden', 'business', 'costs', 'attributable', 'to', 'bad', 'data', 'by', 'examining', 'the', 'data', 'quality', 'of', 'vital', 'business', 'processes', 'applications', 'and', 'information', 'technology', 'projects', 'and', 'data', 'cleanser', 'that', 'enables', 'to', 'design', 'manage', 'and', 'deploy', 'cleansing', 'processes', 'which', 'run', 'in', 'line', 'with', 'production', 'systems', 'or', 'offline', 'for', 'batch', 'based', 'projects'], ['in', 'addition', 'it', 'offers', 'pre', 'built', 'high', 'performance', 'connectors', 'to', 'load', 'teradata', 'oracle', 'db2', 'and', 'microsoft', 'sql', 'server', 'data', 'sources'], ['further', 'the', 'pany', 'provides', 'implementation', 'and', 'consulting', 'education', 'and', 'training', 'and', 'customer', 'support', 'services'], ['it', 'offers', 'solutions', 'for', 'synchronization', 'migration', 'data', 'quality', 'and', 'soa', 'needs', 'of', 'panies', 'and', 'government', 'information', 'technology', 'organizations'], ['the', 'pany', 'was', 'founded', 'in', 'and', 'is', 'headquartered', 'in', 'austin', 'texas'], ['as', 'of', 'may', 'eti', 'international', 'inc'], ['operates', 'as', 'a', 'subsidiary', 'of', 'versata', 'inc'], ['stride', 'funding', 'almapact', 'inc'], ['is', 'a', 'mission', 'driven', 'pany', 'focused', 'on', 'enabling', 'debt', 'free', 'lives', 'for', 'students', 'by', 'supplementing', 'student', 'loans', 'with', 'flexible', 'ine', 'sharing', 'agreements'], ['unlike', 'student', 'loans', 'that', 'lock', 'students', 'into', 'a', 'single', 'rigid', 'payment', 'stride', 's', 'payments', 'rise', 'and', 'fall', 'with', 'a', 'student', 's', 'ine', 'so', 'that', 'payments', 'are', 'always', 'affordable'], ['the', 'pany', 'has', 'been', 'recognized', 'as', 'a', 'visionary', 'leader', 'by', 'fintech', 'analysts', 'for', 'its', 'efforts', 'in', 'ine', 'protection', 'and', 'career', 'support'], ['stride', 'was', 'created', 'by', 'students', 'for', 'students', 'aiming', 'to', 'change', 'student', 'lives', 'for', 'the', 'better'], ['the', 'pany', 'has', 'been', 'recognized', 'by', 'harvard', 'and', 'mit', 'as', 'a', 'top', 'new', 'venture'], ['stride', 'has', 'received', 'venture', 'investments', 'from', 'gsv', 'accelerate', 'slow', 'ventures', 'sinai', 'ventures', 'and', 'pear', 'vc', 'and', 'its', 'strategic', 'investors', 'include', 'strada', 'education'], ['its', 'advisors', 'include', 'serial', 'entrepreneurs', 'doug', 'levin', 'and', 'tina', 'sharkey'], ['patchr', 'are', 'the', 'empowering', 'makers', 'doers', 'innovators', 'and', 'engineers', 'with', 'software', 'to', 'design', 'printed', 'circuit', 'boards', 'in', 'minutes', 'through', 'an', 'easy', 'to', 'use', 'circuit', 'design', 'tool'], ['peerless', 'is', 'a', 'global', 'provider', 'of', 'engineered', 'equipment', 'for', 'the', 'abatement', 'of', 'air', 'pollution', 'the', 'removal', 'of', 'contaminants', 'from', 'gases', 'and', 'liquids', 'industrial', 'noise', 'control', 'and', 'heat', 'transfer', 'through', 'its', 'two', 'business', 'segments', 'environmental', 'systems', 'and', 'process', 'products'], ['in', 'our', 'environmental', 'systems', 'segment', 'we', 'design', 'engineer', 'manufacture', 'and', 'sell', 'highly', 'specialized', 'environmental', 'control', 'systems', 'which', 'are', 'used', 'for', 'air', 'pollution', 'abatement'], ['in', 'our', 'process', 'products', 'segment', 'we', 'design', 'engineer', 'manufacture', 'and', 'sell', 'specialized', 'products', 'known', 'as', 'separators', 'or', 'filters', 'silencers', 'pulsation', 'dampeners', 'and', 'heat', 'exchangers'], ['separators', 'are', 'used', 'in', 'the', 'cleaning', 'of', 'gases', 'or', 'liquids', 'in', 'piping', 'systems', 'the', 'removal', 'of', 'solid', 'or', 'liquid', 'contaminants', 'from', 'bustion', 'intake', 'air', 'from', 'gas', 'turbines', 'or', 'diesel', 'engines', 'and', 'the', 'removal', 'of', 'water', 'from', 'saturated', 'steam', 'at', 'nuclear', 'power', 'plants'], ['silencers', 'and', 'pulsation', 'dampeners', 'reduce', 'noise', 'and', 'de', 'couple', 'the', 'piping', 'system', 'from', 'the', 'pulsation', 'source'], ['heat', 'exchangers', 'are', 'designed', 'to', 'address', 'the', 'thermal', 'exchange', 'conditions', 'for', 'a', 'wide', 'range', 'of', 'process', 'applications', 'and', 'fluid', 'properties'], ['litlingo', 'helps', 'organizations', 'to', 'arrive', 'at', 'the', 'future', 'faster', 'u200b', 'by', 'minimizing', 'risks', 'associated', 'with', 'electronic', 'munications'], ['by', 'providing', 'ai', 'powered', 'monitoring', 'prevention', 'and', 'training', 'solutions', 'in', 'real', 'time', 'across', 'the', 'industry', 'leading', 'munication', 'channels', 'litlingo', 'allows', 'customers', 'to', 'target', 'known', 'risks', 'identify', 'blind', 'spots', 'and', 'maximize', 'the', 'productivity', 'of', 'their', 'workforce'], ['with', 'algorithms', 'trained', 'on', 'hundreds', 'of', 'millions', 'of', 'data', 'points', 'litlingo', 'provides', 'advanced', 'configurability', 'and', 'targeting', 'so', 'you', 'can', 'monitor', 'detect', 'and', 'prevent', 'unforced', 'errors', 'across', 'email', 'instant', 'messaging', 'social', 'media', 'websites', 'and', 'customer', 'service', 'portals'], ['with', 'litlingo', 'customers', 'can', 'stave', 'off', 'pliance', 'and', 'litigation', 'risk', 'by', 'preventing', 'the', 'creation', 'of', 'discoverable', 'material', 'optimizing', 'spend', 'on', 'employee', 'training', 'and', 'responding', 'to', 'customer', 'issues', 'with', 'greater', 'speed', 'and', 'accuracy'], ['with', 'litlingo', 'customer', 'service', 'agents', 'can', 'avoid', 'mistakes', 'employees', 'can', 'thrive', 'without', 'eroding', 'culture', 'recruiters', 'and', 'interviewers', 'can', 'ensure', 'legal', 'pliance', 'the', 'legal', 'team', 'can', 'sleep', 'soundly', 'every', 'night', 'and', 'the', 'leadership', 'team', 'can', 'be', 'confident', 'that', 'the', 'operation', 'is', 'increasing', 'productively', 'while', 'saving', 'money'], ['founded', 'and', 'staffed', 'by', 'industry', 'veterans', 'with', 'experience', 'in', 'ride', 'sharing', 'micro', 'mobility', 'legal', 'technology', 'autonomous', 'vehicles', 'and', 'machine', 'learning', 'litlingo', 'is', 'headquartered', 'in', 'austin', 'texas'], ['texas', 'halo', 'fund', 'is', 'an', 'investment', 'pany', 'that', 'specializes', 'in', 'investing', 'in', 'early', 'stage', 'businesses', 'with', 'promising', 'growth', 'prospects', 'and', 'exceptional', 'management', 'teams'], ['its', 'investment', 'approach', 'identifies', 'pelling', 'businesses', 'from', 'multiple', 'sources', 'and', 'without', 'regard', 'to', 'the', 'industry', 'or', 'geographic', 'location'], ['quite', 'simply', 'it', 'seeks', 'the', 'best', 'opportunities', 'locally', 'regionally', 'and', 'nationally', 'in', 'order', 'to', 'generate', 'the', 'highest', 'returns', 'for', 'the', 'investors', 'with', 'the', 'lowest', 'possible', 'risk'], ['the', 'firm', 'was', 'founded', 'in', 'and', 'is', 'headquartered', 'in', 'houston', 'texas'], ['hormones', 'me', 'is', 'your', 'one', 'stop', 'source', 'for', 'all', 'current', 'information', 'pertinent', 'to', 'hormone', 'replacement', 'therapy', 'hrt'], ['our', 'online', 'platform', 'provides', 'you', 'with', 'a', 'wide', 'range', 'of', 'topics', 'from', 'popular', 'published', 'scientific', 'articles', 'munity', 'forums', 'for', 'discussion', 'to', 'our', 'proprietary', 'cloud', 'based', 'algorithm', 'that', 'helps', 'both', 'providers', 'and', 'patients', 'choose', 'a', 'personalized', 'hrt', 'treatment', 'plan'], ['hormones', 'me', 'provides', 'an', 'evidence', 'and', 'practice', 'based', 'approach', 'to', 'hrt'], ['individuals', 'are', 'provided', 'with', 'a', 'pharmacist', 's', 'remendation', 'to', 'the', 'best', 'hrt', 'options', 'at', 'their', 'fingertips']]\n"
     ]
    }
   ],
   "source": [
    "# dump the tokenized file to json\n",
    "with open(\"sentences_of_words.json\", 'w') as f:\n",
    "    # indent=2 is not needed but makes the file human-readable\n",
    "    json.dump(sentences_of_words, f, indent=2)"
   ],
   "metadata": {
    "collapsed": false,
    "pycharm": {
     "name": "#%%\n"
    }
   }
  },
  {
   "cell_type": "code",
   "execution_count": null,
   "outputs": [],
   "source": [
    "# you can check the json file if needed\n",
    "def check_json_file():\n",
    "    with open(\"sentences_of_words.json\", 'r') as f:\n",
    "        sentences_of_words = json.load(f)\n",
    "    print(sentences_of_words[0:100])\n",
    "\n",
    "# check_json_file()"
   ],
   "metadata": {
    "collapsed": false,
    "pycharm": {
     "name": "#%%\n"
    }
   }
  },
  {
   "cell_type": "code",
   "execution_count": 18,
   "outputs": [],
   "source": [
    "model = Word2Vec(\n",
    "    sentences_of_words,\n",
    "    min_count=5,  # Ignore words that appear less than this\n",
    "    vector_size=50,  # Dimensionality of word embeddings\n",
    "    window=5,  # Context window for words during training\n",
    "    workers=multiprocessing.cpu_count(), # use all cpus, currently gpu support is not ideal\n",
    "    epochs=30)  # Number of epochs"
   ],
   "metadata": {
    "collapsed": false,
    "pycharm": {
     "name": "#%%\n"
    }
   }
  },
  {
   "cell_type": "code",
   "execution_count": 19,
   "outputs": [
    {
     "data": {
      "text/plain": "[('facebook', 0.8936492204666138),\n ('amazon', 0.8696936964988708),\n ('linkedin', 0.858043909072876),\n ('youtube', 0.8467017412185669),\n ('yahoo', 0.8358187675476074),\n ('twitter', 0.8342317342758179),\n ('bing', 0.829176664352417),\n ('slack', 0.8091875314712524),\n ('gmail', 0.8056207895278931),\n ('dropbox', 0.8017454147338867)]"
     },
     "execution_count": 19,
     "metadata": {},
     "output_type": "execute_result"
    }
   ],
   "source": [
    "# try the model with word google\n",
    "model.wv.most_similar('google')"
   ],
   "metadata": {
    "collapsed": false,
    "pycharm": {
     "name": "#%%\n"
    }
   }
  },
  {
   "cell_type": "code",
   "execution_count": null,
   "outputs": [],
   "source": [
    "# save the model into binary file\n",
    "model.wv.save_word2vec_format('liren_model_better.bin', binary=True)"
   ],
   "metadata": {
    "collapsed": false,
    "pycharm": {
     "name": "#%%\n"
    }
   }
  }
 ],
 "metadata": {
  "kernelspec": {
   "display_name": "Python 3",
   "language": "python",
   "name": "python3"
  },
  "language_info": {
   "codemirror_mode": {
    "name": "ipython",
    "version": 2
   },
   "file_extension": ".py",
   "mimetype": "text/x-python",
   "name": "python",
   "nbconvert_exporter": "python",
   "pygments_lexer": "ipython2",
   "version": "2.7.6"
  }
 },
 "nbformat": 4,
 "nbformat_minor": 0
}